{
  "cells": [
    {
      "cell_type": "markdown",
      "id": "14a8c10a",
      "metadata": {
        "id": "14a8c10a"
      },
      "source": [
        "# Movie Recommender System"
      ]
    },
    {
      "cell_type": "markdown",
      "id": "78d6a181",
      "metadata": {
        "id": "78d6a181"
      },
      "source": [
        "## Importing Dependencies"
      ]
    },
    {
      "cell_type": "code",
      "execution_count": 1,
      "id": "22d4ad91",
      "metadata": {
        "id": "22d4ad91"
      },
      "outputs": [],
      "source": [
        "import numpy as np\n",
        "import pandas as pd"
      ]
    },
    {
      "cell_type": "markdown",
      "id": "be31bdaf",
      "metadata": {
        "id": "be31bdaf"
      },
      "source": [
        "## Data Preprocessing"
      ]
    },
    {
      "cell_type": "code",
      "execution_count": 2,
      "id": "eba1cb05",
      "metadata": {
        "id": "eba1cb05"
      },
      "outputs": [],
      "source": [
        "movies = pd.read_csv('movies_metadata.csv')\n",
        "credits = pd.read_csv('credits.csv')\n",
        "keyword = pd.read_csv('keywords.csv')"
      ]
    },
    {
      "cell_type": "code",
      "execution_count": 3,
      "id": "d22e46e9",
      "metadata": {
        "colab": {
          "base_uri": "https://localhost:8080/",
          "height": 337
        },
        "id": "d22e46e9",
        "outputId": "9c15de8f-eb9d-40b3-8765-29264bf93025"
      },
      "outputs": [
        {
          "data": {
            "text/html": [
              "<div>\n",
              "<style scoped>\n",
              "    .dataframe tbody tr th:only-of-type {\n",
              "        vertical-align: middle;\n",
              "    }\n",
              "\n",
              "    .dataframe tbody tr th {\n",
              "        vertical-align: top;\n",
              "    }\n",
              "\n",
              "    .dataframe thead th {\n",
              "        text-align: right;\n",
              "    }\n",
              "</style>\n",
              "<table border=\"1\" class=\"dataframe\">\n",
              "  <thead>\n",
              "    <tr style=\"text-align: right;\">\n",
              "      <th></th>\n",
              "      <th>budget</th>\n",
              "      <th>genres</th>\n",
              "      <th>homepage</th>\n",
              "      <th>id</th>\n",
              "      <th>original_language</th>\n",
              "      <th>original_title</th>\n",
              "      <th>overview</th>\n",
              "      <th>production_companies</th>\n",
              "      <th>production_countries</th>\n",
              "      <th>release_date</th>\n",
              "      <th>revenue</th>\n",
              "      <th>runtime</th>\n",
              "      <th>spoken_languages</th>\n",
              "      <th>status</th>\n",
              "      <th>tagline</th>\n",
              "      <th>title</th>\n",
              "      <th>vote_average</th>\n",
              "      <th>vote_count</th>\n",
              "    </tr>\n",
              "  </thead>\n",
              "  <tbody>\n",
              "    <tr>\n",
              "      <th>0</th>\n",
              "      <td>30000000</td>\n",
              "      <td>[{'id': 16, 'name': 'Animation'}, {'id': 35, '...</td>\n",
              "      <td>http://toystory.disney.com/toy-story</td>\n",
              "      <td>862</td>\n",
              "      <td>en</td>\n",
              "      <td>Toy Story</td>\n",
              "      <td>Led by Woody, Andy's toys live happily in his ...</td>\n",
              "      <td>[{'name': 'Pixar Animation Studios', 'id': 3}]</td>\n",
              "      <td>[{'iso_3166_1': 'US', 'name': 'United States o...</td>\n",
              "      <td>30-10-1995</td>\n",
              "      <td>373554033.0</td>\n",
              "      <td>81.0</td>\n",
              "      <td>[{'iso_639_1': 'en', 'name': 'English'}]</td>\n",
              "      <td>Released</td>\n",
              "      <td>NaN</td>\n",
              "      <td>Toy Story</td>\n",
              "      <td>7.7</td>\n",
              "      <td>5415.0</td>\n",
              "    </tr>\n",
              "    <tr>\n",
              "      <th>1</th>\n",
              "      <td>65000000</td>\n",
              "      <td>[{'id': 12, 'name': 'Adventure'}, {'id': 14, '...</td>\n",
              "      <td>NaN</td>\n",
              "      <td>8844</td>\n",
              "      <td>en</td>\n",
              "      <td>Jumanji</td>\n",
              "      <td>When siblings Judy and Peter discover an encha...</td>\n",
              "      <td>[{'name': 'TriStar Pictures', 'id': 559}, {'na...</td>\n",
              "      <td>[{'iso_3166_1': 'US', 'name': 'United States o...</td>\n",
              "      <td>15-12-1995</td>\n",
              "      <td>262797249.0</td>\n",
              "      <td>104.0</td>\n",
              "      <td>[{'iso_639_1': 'en', 'name': 'English'}, {'iso...</td>\n",
              "      <td>Released</td>\n",
              "      <td>Roll the dice and unleash the excitement!</td>\n",
              "      <td>Jumanji</td>\n",
              "      <td>6.9</td>\n",
              "      <td>2413.0</td>\n",
              "    </tr>\n",
              "    <tr>\n",
              "      <th>2</th>\n",
              "      <td>0</td>\n",
              "      <td>[{'id': 10749, 'name': 'Romance'}, {'id': 35, ...</td>\n",
              "      <td>NaN</td>\n",
              "      <td>15602</td>\n",
              "      <td>en</td>\n",
              "      <td>Grumpier Old Men</td>\n",
              "      <td>A family wedding reignites the ancient feud be...</td>\n",
              "      <td>[{'name': 'Warner Bros.', 'id': 6194}, {'name'...</td>\n",
              "      <td>[{'iso_3166_1': 'US', 'name': 'United States o...</td>\n",
              "      <td>22-12-1995</td>\n",
              "      <td>0.0</td>\n",
              "      <td>101.0</td>\n",
              "      <td>[{'iso_639_1': 'en', 'name': 'English'}]</td>\n",
              "      <td>Released</td>\n",
              "      <td>Still Yelling. Still Fighting. Still Ready for...</td>\n",
              "      <td>Grumpier Old Men</td>\n",
              "      <td>6.5</td>\n",
              "      <td>92.0</td>\n",
              "    </tr>\n",
              "    <tr>\n",
              "      <th>3</th>\n",
              "      <td>16000000</td>\n",
              "      <td>[{'id': 35, 'name': 'Comedy'}, {'id': 18, 'nam...</td>\n",
              "      <td>NaN</td>\n",
              "      <td>31357</td>\n",
              "      <td>en</td>\n",
              "      <td>Waiting to Exhale</td>\n",
              "      <td>Cheated on, mistreated and stepped on, the wom...</td>\n",
              "      <td>[{'name': 'Twentieth Century Fox Film Corporat...</td>\n",
              "      <td>[{'iso_3166_1': 'US', 'name': 'United States o...</td>\n",
              "      <td>22-12-1995</td>\n",
              "      <td>81452156.0</td>\n",
              "      <td>127.0</td>\n",
              "      <td>[{'iso_639_1': 'en', 'name': 'English'}]</td>\n",
              "      <td>Released</td>\n",
              "      <td>Friends are the people who let you be yourself...</td>\n",
              "      <td>Waiting to Exhale</td>\n",
              "      <td>6.1</td>\n",
              "      <td>34.0</td>\n",
              "    </tr>\n",
              "    <tr>\n",
              "      <th>4</th>\n",
              "      <td>0</td>\n",
              "      <td>[{'id': 35, 'name': 'Comedy'}]</td>\n",
              "      <td>NaN</td>\n",
              "      <td>11862</td>\n",
              "      <td>en</td>\n",
              "      <td>Father of the Bride Part II</td>\n",
              "      <td>Just when George Banks has recovered from his ...</td>\n",
              "      <td>[{'name': 'Sandollar Productions', 'id': 5842}...</td>\n",
              "      <td>[{'iso_3166_1': 'US', 'name': 'United States o...</td>\n",
              "      <td>10-02-1995</td>\n",
              "      <td>76578911.0</td>\n",
              "      <td>106.0</td>\n",
              "      <td>[{'iso_639_1': 'en', 'name': 'English'}]</td>\n",
              "      <td>Released</td>\n",
              "      <td>Just When His World Is Back To Normal... He's ...</td>\n",
              "      <td>Father of the Bride Part II</td>\n",
              "      <td>5.7</td>\n",
              "      <td>173.0</td>\n",
              "    </tr>\n",
              "  </tbody>\n",
              "</table>\n",
              "</div>"
            ],
            "text/plain": [
              "     budget                                             genres  \\\n",
              "0  30000000  [{'id': 16, 'name': 'Animation'}, {'id': 35, '...   \n",
              "1  65000000  [{'id': 12, 'name': 'Adventure'}, {'id': 14, '...   \n",
              "2         0  [{'id': 10749, 'name': 'Romance'}, {'id': 35, ...   \n",
              "3  16000000  [{'id': 35, 'name': 'Comedy'}, {'id': 18, 'nam...   \n",
              "4         0                     [{'id': 35, 'name': 'Comedy'}]   \n",
              "\n",
              "                               homepage     id original_language  \\\n",
              "0  http://toystory.disney.com/toy-story    862                en   \n",
              "1                                   NaN   8844                en   \n",
              "2                                   NaN  15602                en   \n",
              "3                                   NaN  31357                en   \n",
              "4                                   NaN  11862                en   \n",
              "\n",
              "                original_title  \\\n",
              "0                    Toy Story   \n",
              "1                      Jumanji   \n",
              "2             Grumpier Old Men   \n",
              "3            Waiting to Exhale   \n",
              "4  Father of the Bride Part II   \n",
              "\n",
              "                                            overview  \\\n",
              "0  Led by Woody, Andy's toys live happily in his ...   \n",
              "1  When siblings Judy and Peter discover an encha...   \n",
              "2  A family wedding reignites the ancient feud be...   \n",
              "3  Cheated on, mistreated and stepped on, the wom...   \n",
              "4  Just when George Banks has recovered from his ...   \n",
              "\n",
              "                                production_companies  \\\n",
              "0     [{'name': 'Pixar Animation Studios', 'id': 3}]   \n",
              "1  [{'name': 'TriStar Pictures', 'id': 559}, {'na...   \n",
              "2  [{'name': 'Warner Bros.', 'id': 6194}, {'name'...   \n",
              "3  [{'name': 'Twentieth Century Fox Film Corporat...   \n",
              "4  [{'name': 'Sandollar Productions', 'id': 5842}...   \n",
              "\n",
              "                                production_countries release_date  \\\n",
              "0  [{'iso_3166_1': 'US', 'name': 'United States o...   30-10-1995   \n",
              "1  [{'iso_3166_1': 'US', 'name': 'United States o...   15-12-1995   \n",
              "2  [{'iso_3166_1': 'US', 'name': 'United States o...   22-12-1995   \n",
              "3  [{'iso_3166_1': 'US', 'name': 'United States o...   22-12-1995   \n",
              "4  [{'iso_3166_1': 'US', 'name': 'United States o...   10-02-1995   \n",
              "\n",
              "       revenue  runtime                                   spoken_languages  \\\n",
              "0  373554033.0     81.0           [{'iso_639_1': 'en', 'name': 'English'}]   \n",
              "1  262797249.0    104.0  [{'iso_639_1': 'en', 'name': 'English'}, {'iso...   \n",
              "2          0.0    101.0           [{'iso_639_1': 'en', 'name': 'English'}]   \n",
              "3   81452156.0    127.0           [{'iso_639_1': 'en', 'name': 'English'}]   \n",
              "4   76578911.0    106.0           [{'iso_639_1': 'en', 'name': 'English'}]   \n",
              "\n",
              "     status                                            tagline  \\\n",
              "0  Released                                                NaN   \n",
              "1  Released          Roll the dice and unleash the excitement!   \n",
              "2  Released  Still Yelling. Still Fighting. Still Ready for...   \n",
              "3  Released  Friends are the people who let you be yourself...   \n",
              "4  Released  Just When His World Is Back To Normal... He's ...   \n",
              "\n",
              "                         title  vote_average  vote_count  \n",
              "0                    Toy Story           7.7      5415.0  \n",
              "1                      Jumanji           6.9      2413.0  \n",
              "2             Grumpier Old Men           6.5        92.0  \n",
              "3            Waiting to Exhale           6.1        34.0  \n",
              "4  Father of the Bride Part II           5.7       173.0  "
            ]
          },
          "execution_count": 3,
          "metadata": {},
          "output_type": "execute_result"
        }
      ],
      "source": [
        "movies.head()"
      ]
    },
    {
      "cell_type": "code",
      "execution_count": 4,
      "id": "e57cc6e4",
      "metadata": {
        "colab": {
          "base_uri": "https://localhost:8080/",
          "height": 206
        },
        "id": "e57cc6e4",
        "outputId": "1d5434de-7f04-4d49-8c5e-d9c387c84e53"
      },
      "outputs": [
        {
          "data": {
            "text/html": [
              "<div>\n",
              "<style scoped>\n",
              "    .dataframe tbody tr th:only-of-type {\n",
              "        vertical-align: middle;\n",
              "    }\n",
              "\n",
              "    .dataframe tbody tr th {\n",
              "        vertical-align: top;\n",
              "    }\n",
              "\n",
              "    .dataframe thead th {\n",
              "        text-align: right;\n",
              "    }\n",
              "</style>\n",
              "<table border=\"1\" class=\"dataframe\">\n",
              "  <thead>\n",
              "    <tr style=\"text-align: right;\">\n",
              "      <th></th>\n",
              "      <th>cast</th>\n",
              "      <th>crew</th>\n",
              "      <th>id</th>\n",
              "    </tr>\n",
              "  </thead>\n",
              "  <tbody>\n",
              "    <tr>\n",
              "      <th>0</th>\n",
              "      <td>[{'cast_id': 14, 'character': 'Woody (voice)',...</td>\n",
              "      <td>[{'credit_id': '52fe4284c3a36847f8024f49', 'de...</td>\n",
              "      <td>862</td>\n",
              "    </tr>\n",
              "    <tr>\n",
              "      <th>1</th>\n",
              "      <td>[{'cast_id': 1, 'character': 'Alan Parrish', '...</td>\n",
              "      <td>[{'credit_id': '52fe44bfc3a36847f80a7cd1', 'de...</td>\n",
              "      <td>8844</td>\n",
              "    </tr>\n",
              "    <tr>\n",
              "      <th>2</th>\n",
              "      <td>[{'cast_id': 2, 'character': 'Max Goldman', 'c...</td>\n",
              "      <td>[{'credit_id': '52fe466a9251416c75077a89', 'de...</td>\n",
              "      <td>15602</td>\n",
              "    </tr>\n",
              "    <tr>\n",
              "      <th>3</th>\n",
              "      <td>[{'cast_id': 1, 'character': \"Savannah 'Vannah...</td>\n",
              "      <td>[{'credit_id': '52fe44779251416c91011acb', 'de...</td>\n",
              "      <td>31357</td>\n",
              "    </tr>\n",
              "    <tr>\n",
              "      <th>4</th>\n",
              "      <td>[{'cast_id': 1, 'character': 'George Banks', '...</td>\n",
              "      <td>[{'credit_id': '52fe44959251416c75039ed7', 'de...</td>\n",
              "      <td>11862</td>\n",
              "    </tr>\n",
              "  </tbody>\n",
              "</table>\n",
              "</div>"
            ],
            "text/plain": [
              "                                                cast  \\\n",
              "0  [{'cast_id': 14, 'character': 'Woody (voice)',...   \n",
              "1  [{'cast_id': 1, 'character': 'Alan Parrish', '...   \n",
              "2  [{'cast_id': 2, 'character': 'Max Goldman', 'c...   \n",
              "3  [{'cast_id': 1, 'character': \"Savannah 'Vannah...   \n",
              "4  [{'cast_id': 1, 'character': 'George Banks', '...   \n",
              "\n",
              "                                                crew     id  \n",
              "0  [{'credit_id': '52fe4284c3a36847f8024f49', 'de...    862  \n",
              "1  [{'credit_id': '52fe44bfc3a36847f80a7cd1', 'de...   8844  \n",
              "2  [{'credit_id': '52fe466a9251416c75077a89', 'de...  15602  \n",
              "3  [{'credit_id': '52fe44779251416c91011acb', 'de...  31357  \n",
              "4  [{'credit_id': '52fe44959251416c75039ed7', 'de...  11862  "
            ]
          },
          "execution_count": 4,
          "metadata": {},
          "output_type": "execute_result"
        }
      ],
      "source": [
        "credits.head()"
      ]
    },
    {
      "cell_type": "code",
      "execution_count": 5,
      "id": "ac6b2f3b",
      "metadata": {
        "colab": {
          "base_uri": "https://localhost:8080/"
        },
        "id": "ac6b2f3b",
        "outputId": "d3533038-4e1c-494c-a530-ed4d7d96e5d8"
      },
      "outputs": [
        {
          "data": {
            "text/plain": [
              "array([\"[{'cast_id': 14, 'character': 'Woody (voice)', 'credit_id': '52fe4284c3a36847f8024f95', 'gender': 2, 'id': 31, 'name': 'Tom Hanks', 'order': 0, 'profile_path': '/pQFoyx7rp09CJTAb932F2g8Nlho.jpg'}, {'cast_id': 15, 'character': 'Buzz Lightyear (voice)', 'credit_id': '52fe4284c3a36847f8024f99', 'gender': 2, 'id': 12898, 'name': 'Tim Allen', 'order': 1, 'profile_path': '/uX2xVf6pMmPepxnvFWyBtjexzgY.jpg'}, {'cast_id': 16, 'character': 'Mr. Potato Head (voice)', 'credit_id': '52fe4284c3a36847f8024f9d', 'gender': 2, 'id': 7167, 'name': 'Don Rickles', 'order': 2, 'profile_path': '/h5BcaDMPRVLHLDzbQavec4xfSdt.jpg'}, {'cast_id': 17, 'character': 'Slinky Dog (voice)', 'credit_id': '52fe4284c3a36847f8024fa1', 'gender': 2, 'id': 12899, 'name': 'Jim Varney', 'order': 3, 'profile_path': '/eIo2jVVXYgjDtaHoF19Ll9vtW7h.jpg'}, {'cast_id': 18, 'character': 'Rex (voice)', 'credit_id': '52fe4284c3a36847f8024fa5', 'gender': 2, 'id': 12900, 'name': 'Wallace Shawn', 'order': 4, 'profile_path': '/oGE6JqPP2xH4tNORKNqxbNPYi7u.jpg'}, {'cast_id': 19, 'character': 'Hamm (voice)', 'credit_id': '52fe4284c3a36847f8024fa9', 'gender': 2, 'id': 7907, 'name': 'John Ratzenberger', 'order': 5, 'profile_path': '/yGechiKWL6TJDfVE2KPSJYqdMsY.jpg'}, {'cast_id': 20, 'character': 'Bo Peep (voice)', 'credit_id': '52fe4284c3a36847f8024fad', 'gender': 1, 'id': 8873, 'name': 'Annie Potts', 'order': 6, 'profile_path': '/eryXT84RL41jHSJcMy4kS3u9y6w.jpg'}, {'cast_id': 26, 'character': 'Andy (voice)', 'credit_id': '52fe4284c3a36847f8024fc1', 'gender': 0, 'id': 1116442, 'name': 'John Morris', 'order': 7, 'profile_path': '/vYGyvK4LzeaUCoNSHtsuqJUY15M.jpg'}, {'cast_id': 22, 'character': 'Sid (voice)', 'credit_id': '52fe4284c3a36847f8024fb1', 'gender': 2, 'id': 12901, 'name': 'Erik von Detten', 'order': 8, 'profile_path': '/twnF1ZaJ1FUNUuo6xLXwcxjayBE.jpg'}, {'cast_id': 23, 'character': 'Mrs. Davis (voice)', 'credit_id': '52fe4284c3a36847f8024fb5', 'gender': 1, 'id': 12133, 'name': 'Laurie Metcalf', 'order': 9, 'profile_path': '/unMMIT60eoBM2sN2nyR7EZ2BvvD.jpg'}, {'cast_id': 24, 'character': 'Sergeant (voice)', 'credit_id': '52fe4284c3a36847f8024fb9', 'gender': 2, 'id': 8655, 'name': 'R. Lee Ermey', 'order': 10, 'profile_path': '/r8GBqFBjypLUP9VVqDqfZ7wYbSs.jpg'}, {'cast_id': 25, 'character': 'Hannah (voice)', 'credit_id': '52fe4284c3a36847f8024fbd', 'gender': 1, 'id': 12903, 'name': 'Sarah Freeman', 'order': 11, 'profile_path': None}, {'cast_id': 27, 'character': 'TV Announcer (voice)', 'credit_id': '52fe4284c3a36847f8024fc5', 'gender': 2, 'id': 37221, 'name': 'Penn Jillette', 'order': 12, 'profile_path': '/zmAaXUdx12NRsssgHbk1T31j2x9.jpg'}]\"],\n",
              "      dtype=object)"
            ]
          },
          "execution_count": 5,
          "metadata": {},
          "output_type": "execute_result"
        }
      ],
      "source": [
        "credits.head(1)['cast'].values"
      ]
    },
    {
      "cell_type": "code",
      "execution_count": 6,
      "id": "91f7b819",
      "metadata": {
        "colab": {
          "base_uri": "https://localhost:8080/"
        },
        "id": "91f7b819",
        "outputId": "714fbd1a-35ae-4563-c0f3-e0b6a35bca8c"
      },
      "outputs": [
        {
          "data": {
            "text/plain": [
              "array(['[{\\'credit_id\\': \\'52fe4284c3a36847f8024f49\\', \\'department\\': \\'Directing\\', \\'gender\\': 2, \\'id\\': 7879, \\'job\\': \\'Director\\', \\'name\\': \\'John Lasseter\\', \\'profile_path\\': \\'/7EdqiNbr4FRjIhKHyPPdFfEEEFG.jpg\\'}, {\\'credit_id\\': \\'52fe4284c3a36847f8024f4f\\', \\'department\\': \\'Writing\\', \\'gender\\': 2, \\'id\\': 12891, \\'job\\': \\'Screenplay\\', \\'name\\': \\'Joss Whedon\\', \\'profile_path\\': \\'/dTiVsuaTVTeGmvkhcyJvKp2A5kr.jpg\\'}, {\\'credit_id\\': \\'52fe4284c3a36847f8024f55\\', \\'department\\': \\'Writing\\', \\'gender\\': 2, \\'id\\': 7, \\'job\\': \\'Screenplay\\', \\'name\\': \\'Andrew Stanton\\', \\'profile_path\\': \\'/pvQWsu0qc8JFQhMVJkTHuexUAa1.jpg\\'}, {\\'credit_id\\': \\'52fe4284c3a36847f8024f5b\\', \\'department\\': \\'Writing\\', \\'gender\\': 2, \\'id\\': 12892, \\'job\\': \\'Screenplay\\', \\'name\\': \\'Joel Cohen\\', \\'profile_path\\': \\'/dAubAiZcvKFbboWlj7oXOkZnTSu.jpg\\'}, {\\'credit_id\\': \\'52fe4284c3a36847f8024f61\\', \\'department\\': \\'Writing\\', \\'gender\\': 0, \\'id\\': 12893, \\'job\\': \\'Screenplay\\', \\'name\\': \\'Alec Sokolow\\', \\'profile_path\\': \\'/v79vlRYi94BZUQnkkyznbGUZLjT.jpg\\'}, {\\'credit_id\\': \\'52fe4284c3a36847f8024f67\\', \\'department\\': \\'Production\\', \\'gender\\': 1, \\'id\\': 12894, \\'job\\': \\'Producer\\', \\'name\\': \\'Bonnie Arnold\\', \\'profile_path\\': None}, {\\'credit_id\\': \\'52fe4284c3a36847f8024f6d\\', \\'department\\': \\'Production\\', \\'gender\\': 0, \\'id\\': 12895, \\'job\\': \\'Executive Producer\\', \\'name\\': \\'Ed Catmull\\', \\'profile_path\\': None}, {\\'credit_id\\': \\'52fe4284c3a36847f8024f73\\', \\'department\\': \\'Production\\', \\'gender\\': 2, \\'id\\': 12896, \\'job\\': \\'Producer\\', \\'name\\': \\'Ralph Guggenheim\\', \\'profile_path\\': None}, {\\'credit_id\\': \\'52fe4284c3a36847f8024f79\\', \\'department\\': \\'Production\\', \\'gender\\': 2, \\'id\\': 12897, \\'job\\': \\'Executive Producer\\', \\'name\\': \\'Steve Jobs\\', \\'profile_path\\': \\'/mOMP3SwD5qWQSR0ldCIByd3guTV.jpg\\'}, {\\'credit_id\\': \\'52fe4284c3a36847f8024f8b\\', \\'department\\': \\'Editing\\', \\'gender\\': 2, \\'id\\': 8, \\'job\\': \\'Editor\\', \\'name\\': \\'Lee Unkrich\\', \\'profile_path\\': \\'/bdTCCXjgOV3YyaNmLGYGOxFQMOc.jpg\\'}, {\\'credit_id\\': \\'52fe4284c3a36847f8024f91\\', \\'department\\': \\'Art\\', \\'gender\\': 2, \\'id\\': 7883, \\'job\\': \\'Art Direction\\', \\'name\\': \\'Ralph Eggleston\\', \\'profile_path\\': \\'/uUfcGKDsKO1aROMpXRs67Hn6RvR.jpg\\'}, {\\'credit_id\\': \\'598331bf925141421201044b\\', \\'department\\': \\'Editing\\', \\'gender\\': 2, \\'id\\': 1168870, \\'job\\': \\'Editor\\', \\'name\\': \\'Robert Gordon\\', \\'profile_path\\': None}, {\\'credit_id\\': \\'5892168cc3a36809660095f9\\', \\'department\\': \\'Sound\\', \\'gender\\': 0, \\'id\\': 1552883, \\'job\\': \\'Foley Editor\\', \\'name\\': \\'Mary Helen Leasman\\', \\'profile_path\\': None}, {\\'credit_id\\': \\'5531824d9251415289000945\\', \\'department\\': \\'Visual Effects\\', \\'gender\\': 0, \\'id\\': 1453514, \\'job\\': \\'Animation\\', \\'name\\': \\'Kim Blanchette\\', \\'profile_path\\': None}, {\\'credit_id\\': \\'589215969251412dcb009bf6\\', \\'department\\': \\'Sound\\', \\'gender\\': 0, \\'id\\': 1414182, \\'job\\': \\'ADR Editor\\', \\'name\\': \\'Marilyn McCoppen\\', \\'profile_path\\': None}, {\\'credit_id\\': \\'589217099251412dc500a018\\', \\'department\\': \\'Sound\\', \\'gender\\': 2, \\'id\\': 7885, \\'job\\': \\'Orchestrator\\', \\'name\\': \\'Randy Newman\\', \\'profile_path\\': \\'/w0JzfoiM25nrnxYOzosPHRq6mlE.jpg\\'}, {\\'credit_id\\': \\'5693e6b29251417b0e0000e3\\', \\'department\\': \\'Editing\\', \\'gender\\': 0, \\'id\\': 1429549, \\'job\\': \\'Color Timer\\', \\'name\\': \\'Dale E. Grahn\\', \\'profile_path\\': None}, {\\'credit_id\\': \\'572e2522c3a36869e6001a9c\\', \\'department\\': \\'Visual Effects\\', \\'gender\\': 0, \\'id\\': 7949, \\'job\\': \\'CG Painter\\', \\'name\\': \\'Robin Cooper\\', \\'profile_path\\': None}, {\\'credit_id\\': \\'574f12309251415ca1000012\\', \\'department\\': \\'Writing\\', \\'gender\\': 2, \\'id\\': 7879, \\'job\\': \\'Original Story\\', \\'name\\': \\'John Lasseter\\', \\'profile_path\\': \\'/7EdqiNbr4FRjIhKHyPPdFfEEEFG.jpg\\'}, {\\'credit_id\\': \\'574f1240c3a3682e7300001c\\', \\'department\\': \\'Writing\\', \\'gender\\': 2, \\'id\\': 12890, \\'job\\': \\'Original Story\\', \\'name\\': \\'Pete Docter\\', \\'profile_path\\': \\'/r6ngPgnReA3RHmKjmSoVsc6Awjp.jpg\\'}, {\\'credit_id\\': \\'574f12519251415c92000015\\', \\'department\\': \\'Writing\\', \\'gender\\': 0, \\'id\\': 7911, \\'job\\': \\'Original Story\\', \\'name\\': \\'Joe Ranft\\', \\'profile_path\\': \\'/f1BoWC2JbCcfP1e5hKfGsxkHzVU.jpg\\'}, {\\'credit_id\\': \\'574f12cec3a3682e82000022\\', \\'department\\': \\'Crew\\', \\'gender\\': 0, \\'id\\': 1629419, \\'job\\': \\'Post Production Supervisor\\', \\'name\\': \\'Patsy Bouge\\', \\'profile_path\\': None}, {\\'credit_id\\': \\'574f14f19251415ca1000082\\', \\'department\\': \\'Art\\', \\'gender\\': 0, \\'id\\': 7961, \\'job\\': \\'Sculptor\\', \\'name\\': \\'Norm DeCarlo\\', \\'profile_path\\': None}, {\\'credit_id\\': \\'5751ae4bc3a3683772002b7f\\', \\'department\\': \\'Visual Effects\\', \\'gender\\': 2, \\'id\\': 12905, \\'job\\': \\'Animation Director\\', \\'name\\': \\'Ash Brannon\\', \\'profile_path\\': \\'/6ueWgPEEBHvS3De2BHYQnYjRTig.jpg\\'}, {\\'credit_id\\': \\'5891edbe9251412dc5007cd6\\', \\'department\\': \\'Sound\\', \\'gender\\': 2, \\'id\\': 7885, \\'job\\': \\'Music\\', \\'name\\': \\'Randy Newman\\', \\'profile_path\\': \\'/w0JzfoiM25nrnxYOzosPHRq6mlE.jpg\\'}, {\\'credit_id\\': \\'589213d39251412dc8009832\\', \\'department\\': \\'Directing\\', \\'gender\\': 0, \\'id\\': 1748707, \\'job\\': \\'Layout\\', \\'name\\': \\'Roman Figun\\', \\'profile_path\\': None}, {\\'credit_id\\': \\'5892173dc3a3680968009351\\', \\'department\\': \\'Sound\\', \\'gender\\': 2, \\'id\\': 4949, \\'job\\': \\'Orchestrator\\', \\'name\\': \\'Don Davis\\', \\'profile_path\\': None}, {\\'credit_id\\': \\'589217cec3a3686b0a0052ba\\', \\'department\\': \\'Sound\\', \\'gender\\': 0, \\'id\\': 1372885, \\'job\\': \\'Music Editor\\', \\'name\\': \\'James Flamberg\\', \\'profile_path\\': None}, {\\'credit_id\\': \\'58921831c3a3686348004a64\\', \\'department\\': \\'Editing\\', \\'gender\\': 0, \\'id\\': 1739962, \\'job\\': \\'Negative Cutter\\', \\'name\\': \\'Mary Beth Smith\\', \\'profile_path\\': None}, {\\'credit_id\\': \\'58921838c3a36809700096c0\\', \\'department\\': \\'Editing\\', \\'gender\\': 0, \\'id\\': 1748513, \\'job\\': \\'Negative Cutter\\', \\'name\\': \\'Rick Mackay\\', \\'profile_path\\': None}, {\\'credit_id\\': \\'589218429251412dd1009d1b\\', \\'department\\': \\'Art\\', \\'gender\\': 0, \\'id\\': 1458006, \\'job\\': \\'Title Designer\\', \\'name\\': \\'Susan Bradley\\', \\'profile_path\\': None}, {\\'credit_id\\': \\'5891ed99c3a3680966007670\\', \\'department\\': \\'Crew\\', \\'gender\\': 0, \\'id\\': 1748557, \\'job\\': \\'Supervising Technical Director\\', \\'name\\': \\'William Reeves\\', \\'profile_path\\': None}, {\\'credit_id\\': \\'5891edcec3a3686b0a002eb2\\', \\'department\\': \\'Sound\\', \\'gender\\': 2, \\'id\\': 7885, \\'job\\': \\'Songs\\', \\'name\\': \\'Randy Newman\\', \\'profile_path\\': \\'/w0JzfoiM25nrnxYOzosPHRq6mlE.jpg\\'}, {\\'credit_id\\': \\'5891edf9c3a36809700075e6\\', \\'department\\': \\'Writing\\', \\'gender\\': 2, \\'id\\': 7, \\'job\\': \\'Original Story\\', \\'name\\': \\'Andrew Stanton\\', \\'profile_path\\': \\'/pvQWsu0qc8JFQhMVJkTHuexUAa1.jpg\\'}, {\\'credit_id\\': \\'58920f0b9251412dd7009104\\', \\'department\\': \\'Crew\\', \\'gender\\': 2, \\'id\\': 12890, \\'job\\': \\'Supervising Animator\\', \\'name\\': \\'Pete Docter\\', \\'profile_path\\': \\'/r6ngPgnReA3RHmKjmSoVsc6Awjp.jpg\\'}, {\\'credit_id\\': \\'58920f1fc3a3680977009021\\', \\'department\\': \\'Sound\\', \\'gender\\': 2, \\'id\\': 2216, \\'job\\': \\'Sound Designer\\', \\'name\\': \\'Gary Rydstrom\\', \\'profile_path\\': \\'/jZpr1nVfO7lldWI0YtmP1FGw7Rj.jpg\\'}, {\\'credit_id\\': \\'58920f389251412dd700912d\\', \\'department\\': \\'Production\\', \\'gender\\': 0, \\'id\\': 12909, \\'job\\': \\'Production Supervisor\\', \\'name\\': \\'Karen Robert Jackson\\', \\'profile_path\\': None}, {\\'credit_id\\': \\'58920fbd9251412dcb00969c\\', \\'department\\': \\'Crew\\', \\'gender\\': 0, \\'id\\': 953331, \\'job\\': \\'Executive Music Producer\\', \\'name\\': \\'Chris Montan\\', \\'profile_path\\': None}, {\\'credit_id\\': \\'589210069251412dd7009219\\', \\'department\\': \\'Visual Effects\\', \\'gender\\': 0, \\'id\\': 7893, \\'job\\': \\'Animation Director\\', \\'name\\': \\'Rich Quade\\', \\'profile_path\\': None}, {\\'credit_id\\': \\'589210329251412dcd00943b\\', \\'department\\': \\'Visual Effects\\', \\'gender\\': 0, \\'id\\': 8025, \\'job\\': \\'Animation\\', \\'name\\': \\'Michael Berenstein\\', \\'profile_path\\': None}, {\\'credit_id\\': \\'5892103bc3a368096a009180\\', \\'department\\': \\'Visual Effects\\', \\'gender\\': 0, \\'id\\': 78009, \\'job\\': \\'Animation\\', \\'name\\': \\'Colin Brady\\', \\'profile_path\\': None}, {\\'credit_id\\': \\'5892105dc3a3680968008db2\\', \\'department\\': \\'Visual Effects\\', \\'gender\\': 0, \\'id\\': 1748682, \\'job\\': \\'Animation\\', \\'name\\': \\'Davey Crockett Feiten\\', \\'profile_path\\': None}, {\\'credit_id\\': \\'589210669251412dcd009466\\', \\'department\\': \\'Visual Effects\\', \\'gender\\': 0, \\'id\\': 1454030, \\'job\\': \\'Animation\\', \\'name\\': \\'Angie Glocka\\', \\'profile_path\\': None}, {\\'credit_id\\': \\'5892107c9251412dd1009613\\', \\'department\\': \\'Visual Effects\\', \\'gender\\': 0, \\'id\\': 1748683, \\'job\\': \\'Animation\\', \\'name\\': \\'Rex Grignon\\', \\'profile_path\\': None}, {\\'credit_id\\': \\'5892108ac3a3680973008d3f\\', \\'department\\': \\'Visual Effects\\', \\'gender\\': 0, \\'id\\': 1748684, \\'job\\': \\'Animation\\', \\'name\\': \\'Tom K. Gurney\\', \\'profile_path\\': None}, {\\'credit_id\\': \\'58921093c3a3686348004477\\', \\'department\\': \\'Visual Effects\\', \\'gender\\': 2, \\'id\\': 8029, \\'job\\': \\'Animation\\', \\'name\\': \\'Jimmy Hayward\\', \\'profile_path\\': \\'/lTDRpudEY7BDwTefXbXzMlmb0ui.jpg\\'}, {\\'credit_id\\': \\'5892109b9251412dcd0094b0\\', \\'department\\': \\'Visual Effects\\', \\'gender\\': 0, \\'id\\': 1426773, \\'job\\': \\'Animation\\', \\'name\\': \\'Hal T. Hickel\\', \\'profile_path\\': None}, {\\'credit_id\\': \\'589210a29251412dc5009a29\\', \\'department\\': \\'Visual Effects\\', \\'gender\\': 0, \\'id\\': 8035, \\'job\\': \\'Animation\\', \\'name\\': \\'Karen Kiser\\', \\'profile_path\\': None}, {\\'credit_id\\': \\'589210ccc3a3680977009191\\', \\'department\\': \\'Visual Effects\\', \\'gender\\': 0, \\'id\\': 1748688, \\'job\\': \\'Animation\\', \\'name\\': \\'Anthony B. LaMolinara\\', \\'profile_path\\': None}, {\\'credit_id\\': \\'589210d7c3a3686b0a004c1f\\', \\'department\\': \\'Visual Effects\\', \\'gender\\': 0, \\'id\\': 587314, \\'job\\': \\'Animation\\', \\'name\\': \\'Guionne Leroy\\', \\'profile_path\\': None}, {\\'credit_id\\': \\'589210e1c3a36809770091a7\\', \\'department\\': \\'Visual Effects\\', \\'gender\\': 2, \\'id\\': 7918, \\'job\\': \\'Animation\\', \\'name\\': \\'Bud Luckey\\', \\'profile_path\\': \\'/pcCh7G19FKMNijmPQg1PMH1btic.jpg\\'}, {\\'credit_id\\': \\'589210ee9251412dc200978a\\', \\'department\\': \\'Visual Effects\\', \\'gender\\': 0, \\'id\\': 1748689, \\'job\\': \\'Animation\\', \\'name\\': \\'Les Major\\', \\'profile_path\\': None}, {\\'credit_id\\': \\'589210fa9251412dc8009595\\', \\'department\\': \\'Visual Effects\\', \\'gender\\': 2, \\'id\\': 7892, \\'job\\': \\'Animation\\', \\'name\\': \\'Glenn McQueen\\', \\'profile_path\\': None}, {\\'credit_id\\': \\'589211029251412dc8009598\\', \\'department\\': \\'Visual Effects\\', \\'gender\\': 0, \\'id\\': 555795, \\'job\\': \\'Animation\\', \\'name\\': \\'Mark Oftedal\\', \\'profile_path\\': None}, {\\'credit_id\\': \\'5892110b9251412dc800959d\\', \\'department\\': \\'Visual Effects\\', \\'gender\\': 2, \\'id\\': 7882, \\'job\\': \\'Animation\\', \\'name\\': \\'Jeff Pidgeon\\', \\'profile_path\\': \\'/yLddkg5HcgbJg00cS13GVBnP0HY.jpg\\'}, {\\'credit_id\\': \\'58921113c3a36863480044e4\\', \\'department\\': \\'Visual Effects\\', \\'gender\\': 0, \\'id\\': 8017, \\'job\\': \\'Animation\\', \\'name\\': \\'Jeff Pratt\\', \\'profile_path\\': None}, {\\'credit_id\\': \\'5892111c9251412dcb0097e9\\', \\'department\\': \\'Visual Effects\\', \\'gender\\': 0, \\'id\\': 1184140, \\'job\\': \\'Animation\\', \\'name\\': \\'Steve Rabatich\\', \\'profile_path\\': None}, {\\'credit_id\\': \\'58921123c3a36809700090f6\\', \\'department\\': \\'Visual Effects\\', \\'gender\\': 0, \\'id\\': 8049, \\'job\\': \\'Animation\\', \\'name\\': \\'Roger Rose\\', \\'profile_path\\': None}, {\\'credit_id\\': \\'5892112b9251412dcb0097fb\\', \\'department\\': \\'Visual Effects\\', \\'gender\\': 0, \\'id\\': 1509559, \\'job\\': \\'Animation\\', \\'name\\': \\'Steve Segal\\', \\'profile_path\\': None}, {\\'credit_id\\': \\'589211349251412dc80095c3\\', \\'department\\': \\'Visual Effects\\', \\'gender\\': 0, \\'id\\': 1748691, \\'job\\': \\'Animation\\', \\'name\\': \\'Doug Sheppeck\\', \\'profile_path\\': None}, {\\'credit_id\\': \\'5892113cc3a3680970009106\\', \\'department\\': \\'Visual Effects\\', \\'gender\\': 0, \\'id\\': 8050, \\'job\\': \\'Animation\\', \\'name\\': \\'Alan Sperling\\', \\'profile_path\\': None}, {\\'credit_id\\': \\'58921148c3a3686b0a004c99\\', \\'department\\': \\'Visual Effects\\', \\'gender\\': 0, \\'id\\': 8010, \\'job\\': \\'Animation\\', \\'name\\': \\'Doug Sweetland\\', \\'profile_path\\': None}, {\\'credit_id\\': \\'58921150c3a3680966009125\\', \\'department\\': \\'Visual Effects\\', \\'gender\\': 0, \\'id\\': 8044, \\'job\\': \\'Animation\\', \\'name\\': \\'David Tart\\', \\'profile_path\\': None}, {\\'credit_id\\': \\'589211629251412dc5009b00\\', \\'department\\': \\'Visual Effects\\', \\'gender\\': 0, \\'id\\': 1454034, \\'job\\': \\'Animation\\', \\'name\\': \\'Ken Willard\\', \\'profile_path\\': None}, {\\'credit_id\\': \\'589211c1c3a3686b0a004d28\\', \\'department\\': \\'Visual Effects\\', \\'gender\\': 0, \\'id\\': 7887, \\'job\\': \\'Visual Effects Supervisor\\', \\'name\\': \\'Thomas Porter\\', \\'profile_path\\': None}, {\\'credit_id\\': \\'589211d4c3a3680968008ed9\\', \\'department\\': \\'Visual Effects\\', \\'gender\\': 0, \\'id\\': 1406878, \\'job\\': \\'Visual Effects\\', \\'name\\': \\'Mark Thomas Henne\\', \\'profile_path\\': None}, {\\'credit_id\\': \\'589211f59251412dd4008e65\\', \\'department\\': \\'Visual Effects\\', \\'gender\\': 0, \\'id\\': 1748698, \\'job\\': \\'Visual Effects\\', \\'name\\': \\'Oren Jacob\\', \\'profile_path\\': None}, {\\'credit_id\\': \\'58921242c3a368096a00939b\\', \\'department\\': \\'Visual Effects\\', \\'gender\\': 0, \\'id\\': 1748699, \\'job\\': \\'Visual Effects\\', \\'name\\': \\'Darwyn Peachey\\', \\'profile_path\\': None}, {\\'credit_id\\': \\'5892124b9251412dc5009bd2\\', \\'department\\': \\'Visual Effects\\', \\'gender\\': 0, \\'id\\': 1748701, \\'job\\': \\'Visual Effects\\', \\'name\\': \\'Mitch Prater\\', \\'profile_path\\': None}, {\\'credit_id\\': \\'58921264c3a3686b0a004dbf\\', \\'department\\': \\'Visual Effects\\', \\'gender\\': 0, \\'id\\': 1748703, \\'job\\': \\'Visual Effects\\', \\'name\\': \\'Brian M. Rosen\\', \\'profile_path\\': None}, {\\'credit_id\\': \\'589212709251412dcd009676\\', \\'department\\': \\'Lighting\\', \\'gender\\': 1, \\'id\\': 12912, \\'job\\': \\'Lighting Supervisor\\', \\'name\\': \\'Sharon Calahan\\', \\'profile_path\\': None}, {\\'credit_id\\': \\'5892127fc3a3686b0a004de5\\', \\'department\\': \\'Lighting\\', \\'gender\\': 0, \\'id\\': 7899, \\'job\\': \\'Lighting Supervisor\\', \\'name\\': \\'Galyn Susman\\', \\'profile_path\\': None}, {\\'credit_id\\': \\'589212cdc3a3680970009268\\', \\'department\\': \\'Visual Effects\\', \\'gender\\': 0, \\'id\\': 12915, \\'job\\': \\'CG Painter\\', \\'name\\': \\'William Cone\\', \\'profile_path\\': None}, {\\'credit_id\\': \\'5892130f9251412dc8009791\\', \\'department\\': \\'Art\\', \\'gender\\': 0, \\'id\\': 1748705, \\'job\\': \\'Sculptor\\', \\'name\\': \\'Shelley Daniels Lekven\\', \\'profile_path\\': None}, {\\'credit_id\\': \\'5892131c9251412dd4008f4c\\', \\'department\\': \\'Visual Effects\\', \\'gender\\': 2, \\'id\\': 7889, \\'job\\': \\'Character Designer\\', \\'name\\': \\'Bob Pauley\\', \\'profile_path\\': None}, {\\'credit_id\\': \\'589213249251412dd100987b\\', \\'department\\': \\'Visual Effects\\', \\'gender\\': 2, \\'id\\': 7918, \\'job\\': \\'Character Designer\\', \\'name\\': \\'Bud Luckey\\', \\'profile_path\\': \\'/pcCh7G19FKMNijmPQg1PMH1btic.jpg\\'}, {\\'credit_id\\': \\'5892132b9251412dc80097b1\\', \\'department\\': \\'Visual Effects\\', \\'gender\\': 2, \\'id\\': 7, \\'job\\': \\'Character Designer\\', \\'name\\': \\'Andrew Stanton\\', \\'profile_path\\': \\'/pvQWsu0qc8JFQhMVJkTHuexUAa1.jpg\\'}, {\\'credit_id\\': \\'58921332c3a368634800467b\\', \\'department\\': \\'Visual Effects\\', \\'gender\\': 0, \\'id\\': 12915, \\'job\\': \\'Character Designer\\', \\'name\\': \\'William Cone\\', \\'profile_path\\': None}, {\\'credit_id\\': \\'5892135f9251412dd4008f90\\', \\'department\\': \\'Visual Effects\\', \\'gender\\': 0, \\'id\\': 1748706, \\'job\\': \\'Character Designer\\', \\'name\\': \\'Steve Johnson\\', \\'profile_path\\': None}, {\\'credit_id\\': \\'58921384c3a3680973008fd4\\', \\'department\\': \\'Visual Effects\\', \\'gender\\': 0, \\'id\\': 1176752, \\'job\\': \\'Character Designer\\', \\'name\\': \\'Dan Haskett\\', \\'profile_path\\': None}, {\\'credit_id\\': \\'5892138e9251412dc20099fc\\', \\'department\\': \\'Visual Effects\\', \\'gender\\': 0, \\'id\\': 1088034, \\'job\\': \\'Character Designer\\', \\'name\\': \\'Tom Holloway\\', \\'profile_path\\': \\'/a0r0T2usTBpgMI5aZbRBDW1fTl8.jpg\\'}, {\\'credit_id\\': \\'58921395c3a368097700942f\\', \\'department\\': \\'Visual Effects\\', \\'gender\\': 0, \\'id\\': 1447465, \\'job\\': \\'Character Designer\\', \\'name\\': \\'Jean Gillmore\\', \\'profile_path\\': None}, {\\'credit_id\\': \\'589213e2c3a3680973009026\\', \\'department\\': \\'Directing\\', \\'gender\\': 0, \\'id\\': 1748709, \\'job\\': \\'Layout\\', \\'name\\': \\'Desirée Mourad\\', \\'profile_path\\': None}, {\\'credit_id\\': \\'589214099251412dc5009d57\\', \\'department\\': \\'Art\\', \\'gender\\': 0, \\'id\\': 1748710, \\'job\\': \\'Set Dresser\\', \\'name\\': \"Kelly O\\'Connell\", \\'profile_path\\': None}, {\\'credit_id\\': \\'58921411c3a3686b0a004f70\\', \\'department\\': \\'Art\\', \\'gender\\': 0, \\'id\\': 1443471, \\'job\\': \\'Set Dresser\\', \\'name\\': \\'Sonoko Konishi\\', \\'profile_path\\': None}, {\\'credit_id\\': \\'58921434c3a368096a00956e\\', \\'department\\': \\'Art\\', \\'gender\\': 0, \\'id\\': 1748711, \\'job\\': \\'Set Dresser\\', \\'name\\': \\'Ann M. Rockwell\\', \\'profile_path\\': None}, {\\'credit_id\\': \\'5892144ac3a36809680090de\\', \\'department\\': \\'Editing\\', \\'gender\\': 0, \\'id\\': 1748712, \\'job\\': \\'Editorial Manager\\', \\'name\\': \\'Julie M. McDonald\\', \\'profile_path\\': None}, {\\'credit_id\\': \\'58921479c3a368096800910f\\', \\'department\\': \\'Editing\\', \\'gender\\': 0, \\'id\\': 1589729, \\'job\\': \\'Assistant Editor\\', \\'name\\': \\'Robin Lee\\', \\'profile_path\\': None}, {\\'credit_id\\': \\'5892148b9251412dd10099cc\\', \\'department\\': \\'Editing\\', \\'gender\\': 0, \\'id\\': 1748716, \\'job\\': \\'Assistant Editor\\', \\'name\\': \\'Tom Freeman\\', \\'profile_path\\': None}, {\\'credit_id\\': \\'589214959251412dcb009b1f\\', \\'department\\': \\'Editing\\', \\'gender\\': 0, \\'id\\': 1748717, \\'job\\': \\'Assistant Editor\\', \\'name\\': \\'Ada Cochavi\\', \\'profile_path\\': None}, {\\'credit_id\\': \\'5892149ec3a3686348004798\\', \\'department\\': \\'Editing\\', \\'gender\\': 0, \\'id\\': 1336438, \\'job\\': \\'Assistant Editor\\', \\'name\\': \\'Dana Mulligan\\', \\'profile_path\\': None}, {\\'credit_id\\': \\'589214adc3a368096a0095db\\', \\'department\\': \\'Editing\\', \\'gender\\': 0, \\'id\\': 1748718, \\'job\\': \\'Editorial Coordinator\\', \\'name\\': \\'Deirdre Morrison\\', \\'profile_path\\': None}, {\\'credit_id\\': \\'589214c7c3a368097700952b\\', \\'department\\': \\'Production\\', \\'gender\\': 0, \\'id\\': 1748719, \\'job\\': \\'Production Coordinator\\', \\'name\\': \\'Lori Lombardo\\', \\'profile_path\\': None}, {\\'credit_id\\': \\'589214cec3a368096a009603\\', \\'department\\': \\'Production\\', \\'gender\\': 0, \\'id\\': 1748720, \\'job\\': \\'Production Coordinator\\', \\'name\\': \\'Ellen Devine\\', \\'profile_path\\': None}, {\\'credit_id\\': \\'589214e39251412dc8009904\\', \\'department\\': \\'Crew\\', \\'gender\\': 0, \\'id\\': 1468014, \\'job\\': \\'Unit Publicist\\', \\'name\\': \\'Lauren Beth Strogoff\\', \\'profile_path\\': None}, {\\'credit_id\\': \\'58921544c3a3686b0a00507d\\', \\'department\\': \\'Sound\\', \\'gender\\': 2, \\'id\\': 2216, \\'job\\': \\'Sound Re-Recording Mixer\\', \\'name\\': \\'Gary Rydstrom\\', \\'profile_path\\': \\'/jZpr1nVfO7lldWI0YtmP1FGw7Rj.jpg\\'}, {\\'credit_id\\': \\'5892154c9251412dd1009a56\\', \\'department\\': \\'Sound\\', \\'gender\\': 0, \\'id\\': 1425978, \\'job\\': \\'Sound Re-Recording Mixer\\', \\'name\\': \\'Gary Summers\\', \\'profile_path\\': None}, {\\'credit_id\\': \\'58921555c3a36809680091bd\\', \\'department\\': \\'Sound\\', \\'gender\\': 2, \\'id\\': 8276, \\'job\\': \\'Supervising Sound Editor\\', \\'name\\': \\'Tim Holland\\', \\'profile_path\\': None}, {\\'credit_id\\': \\'589215c39251412dcb009c12\\', \\'department\\': \\'Sound\\', \\'gender\\': 0, \\'id\\': 7069, \\'job\\': \\'Sound Effects Editor\\', \\'name\\': \\'Pat Jackson\\', \\'profile_path\\': None}, {\\'credit_id\\': \\'58921698c3a368096a009788\\', \\'department\\': \\'Crew\\', \\'gender\\': 2, \\'id\\': 15894, \\'job\\': \\'Sound Design Assistant\\', \\'name\\': \\'Tom Myers\\', \\'profile_path\\': None}, {\\'credit_id\\': \\'589216a89251412dc2009ca4\\', \\'department\\': \\'Sound\\', \\'gender\\': 0, \\'id\\': 1414177, \\'job\\': \\'Assistant Sound Editor\\', \\'name\\': \\'J.R. Grubbs\\', \\'profile_path\\': None}, {\\'credit_id\\': \\'589216c19251412dc2009cb9\\', \\'department\\': \\'Sound\\', \\'gender\\': 1, \\'id\\': 1748724, \\'job\\': \\'Assistant Sound Editor\\', \\'name\\': \\'Susan Sanford\\', \\'profile_path\\': None}, {\\'credit_id\\': \\'589216ccc3a3680973009274\\', \\'department\\': \\'Sound\\', \\'gender\\': 0, \\'id\\': 1748725, \\'job\\': \\'Assistant Sound Editor\\', \\'name\\': \\'Susan Popovic\\', \\'profile_path\\': None}, {\\'credit_id\\': \\'589216d79251412dc8009aa0\\', \\'department\\': \\'Sound\\', \\'gender\\': 0, \\'id\\': 8067, \\'job\\': \\'Assistant Sound Editor\\', \\'name\\': \\'Dan Engstrom\\', \\'profile_path\\': None}, {\\'credit_id\\': \\'589216e49251412dcd009a4f\\', \\'department\\': \\'Production\\', \\'gender\\': 1, \\'id\\': 7902, \\'job\\': \\'Casting Consultant\\', \\'name\\': \\'Ruth Lambert\\', \\'profile_path\\': None}, {\\'credit_id\\': \\'589216f39251412dc2009cf3\\', \\'department\\': \\'Production\\', \\'gender\\': 0, \\'id\\': 84493, \\'job\\': \\'ADR Voice Casting\\', \\'name\\': \\'Mickie McGowan\\', \\'profile_path\\': \\'/k7TjJBfINsg8vLQxJwos6XObAD6.jpg\\'}]'],\n",
              "      dtype=object)"
            ]
          },
          "execution_count": 6,
          "metadata": {},
          "output_type": "execute_result"
        }
      ],
      "source": [
        "credits.head(1)['crew'].values"
      ]
    },
    {
      "cell_type": "markdown",
      "id": "d157d71a",
      "metadata": {
        "id": "d157d71a"
      },
      "source": [
        "## Merging datasets\n",
        "\n",
        "- based on title"
      ]
    },
    {
      "cell_type": "code",
      "execution_count": 7,
      "id": "0760bb2a",
      "metadata": {
        "colab": {
          "base_uri": "https://localhost:8080/",
          "height": 1000
        },
        "id": "0760bb2a",
        "outputId": "e0c421d0-6922-4f45-da0c-cb8d1eb9ec68"
      },
      "outputs": [
        {
          "data": {
            "text/html": [
              "<div>\n",
              "<style scoped>\n",
              "    .dataframe tbody tr th:only-of-type {\n",
              "        vertical-align: middle;\n",
              "    }\n",
              "\n",
              "    .dataframe tbody tr th {\n",
              "        vertical-align: top;\n",
              "    }\n",
              "\n",
              "    .dataframe thead th {\n",
              "        text-align: right;\n",
              "    }\n",
              "</style>\n",
              "<table border=\"1\" class=\"dataframe\">\n",
              "  <thead>\n",
              "    <tr style=\"text-align: right;\">\n",
              "      <th></th>\n",
              "      <th>budget</th>\n",
              "      <th>genres</th>\n",
              "      <th>homepage</th>\n",
              "      <th>id</th>\n",
              "      <th>original_language</th>\n",
              "      <th>original_title</th>\n",
              "      <th>overview</th>\n",
              "      <th>production_companies</th>\n",
              "      <th>production_countries</th>\n",
              "      <th>release_date</th>\n",
              "      <th>...</th>\n",
              "      <th>runtime</th>\n",
              "      <th>spoken_languages</th>\n",
              "      <th>status</th>\n",
              "      <th>tagline</th>\n",
              "      <th>title</th>\n",
              "      <th>vote_average</th>\n",
              "      <th>vote_count</th>\n",
              "      <th>cast</th>\n",
              "      <th>crew</th>\n",
              "      <th>id</th>\n",
              "    </tr>\n",
              "  </thead>\n",
              "  <tbody>\n",
              "    <tr>\n",
              "      <th>0</th>\n",
              "      <td>30000000</td>\n",
              "      <td>[{'id': 16, 'name': 'Animation'}, {'id': 35, '...</td>\n",
              "      <td>http://toystory.disney.com/toy-story</td>\n",
              "      <td>862</td>\n",
              "      <td>en</td>\n",
              "      <td>Toy Story</td>\n",
              "      <td>Led by Woody, Andy's toys live happily in his ...</td>\n",
              "      <td>[{'name': 'Pixar Animation Studios', 'id': 3}]</td>\n",
              "      <td>[{'iso_3166_1': 'US', 'name': 'United States o...</td>\n",
              "      <td>30-10-1995</td>\n",
              "      <td>...</td>\n",
              "      <td>81.0</td>\n",
              "      <td>[{'iso_639_1': 'en', 'name': 'English'}]</td>\n",
              "      <td>Released</td>\n",
              "      <td>NaN</td>\n",
              "      <td>Toy Story</td>\n",
              "      <td>7.7</td>\n",
              "      <td>5415.0</td>\n",
              "      <td>[{'cast_id': 14, 'character': 'Woody (voice)',...</td>\n",
              "      <td>[{'credit_id': '52fe4284c3a36847f8024f49', 'de...</td>\n",
              "      <td>862</td>\n",
              "    </tr>\n",
              "    <tr>\n",
              "      <th>1</th>\n",
              "      <td>65000000</td>\n",
              "      <td>[{'id': 12, 'name': 'Adventure'}, {'id': 14, '...</td>\n",
              "      <td>NaN</td>\n",
              "      <td>8844</td>\n",
              "      <td>en</td>\n",
              "      <td>Jumanji</td>\n",
              "      <td>When siblings Judy and Peter discover an encha...</td>\n",
              "      <td>[{'name': 'TriStar Pictures', 'id': 559}, {'na...</td>\n",
              "      <td>[{'iso_3166_1': 'US', 'name': 'United States o...</td>\n",
              "      <td>15-12-1995</td>\n",
              "      <td>...</td>\n",
              "      <td>104.0</td>\n",
              "      <td>[{'iso_639_1': 'en', 'name': 'English'}, {'iso...</td>\n",
              "      <td>Released</td>\n",
              "      <td>Roll the dice and unleash the excitement!</td>\n",
              "      <td>Jumanji</td>\n",
              "      <td>6.9</td>\n",
              "      <td>2413.0</td>\n",
              "      <td>[{'cast_id': 1, 'character': 'Alan Parrish', '...</td>\n",
              "      <td>[{'credit_id': '52fe44bfc3a36847f80a7cd1', 'de...</td>\n",
              "      <td>8844</td>\n",
              "    </tr>\n",
              "    <tr>\n",
              "      <th>2</th>\n",
              "      <td>0</td>\n",
              "      <td>[{'id': 10749, 'name': 'Romance'}, {'id': 35, ...</td>\n",
              "      <td>NaN</td>\n",
              "      <td>15602</td>\n",
              "      <td>en</td>\n",
              "      <td>Grumpier Old Men</td>\n",
              "      <td>A family wedding reignites the ancient feud be...</td>\n",
              "      <td>[{'name': 'Warner Bros.', 'id': 6194}, {'name'...</td>\n",
              "      <td>[{'iso_3166_1': 'US', 'name': 'United States o...</td>\n",
              "      <td>22-12-1995</td>\n",
              "      <td>...</td>\n",
              "      <td>101.0</td>\n",
              "      <td>[{'iso_639_1': 'en', 'name': 'English'}]</td>\n",
              "      <td>Released</td>\n",
              "      <td>Still Yelling. Still Fighting. Still Ready for...</td>\n",
              "      <td>Grumpier Old Men</td>\n",
              "      <td>6.5</td>\n",
              "      <td>92.0</td>\n",
              "      <td>[{'cast_id': 2, 'character': 'Max Goldman', 'c...</td>\n",
              "      <td>[{'credit_id': '52fe466a9251416c75077a89', 'de...</td>\n",
              "      <td>15602</td>\n",
              "    </tr>\n",
              "    <tr>\n",
              "      <th>3</th>\n",
              "      <td>16000000</td>\n",
              "      <td>[{'id': 35, 'name': 'Comedy'}, {'id': 18, 'nam...</td>\n",
              "      <td>NaN</td>\n",
              "      <td>31357</td>\n",
              "      <td>en</td>\n",
              "      <td>Waiting to Exhale</td>\n",
              "      <td>Cheated on, mistreated and stepped on, the wom...</td>\n",
              "      <td>[{'name': 'Twentieth Century Fox Film Corporat...</td>\n",
              "      <td>[{'iso_3166_1': 'US', 'name': 'United States o...</td>\n",
              "      <td>22-12-1995</td>\n",
              "      <td>...</td>\n",
              "      <td>127.0</td>\n",
              "      <td>[{'iso_639_1': 'en', 'name': 'English'}]</td>\n",
              "      <td>Released</td>\n",
              "      <td>Friends are the people who let you be yourself...</td>\n",
              "      <td>Waiting to Exhale</td>\n",
              "      <td>6.1</td>\n",
              "      <td>34.0</td>\n",
              "      <td>[{'cast_id': 1, 'character': \"Savannah 'Vannah...</td>\n",
              "      <td>[{'credit_id': '52fe44779251416c91011acb', 'de...</td>\n",
              "      <td>31357</td>\n",
              "    </tr>\n",
              "    <tr>\n",
              "      <th>4</th>\n",
              "      <td>0</td>\n",
              "      <td>[{'id': 35, 'name': 'Comedy'}]</td>\n",
              "      <td>NaN</td>\n",
              "      <td>11862</td>\n",
              "      <td>en</td>\n",
              "      <td>Father of the Bride Part II</td>\n",
              "      <td>Just when George Banks has recovered from his ...</td>\n",
              "      <td>[{'name': 'Sandollar Productions', 'id': 5842}...</td>\n",
              "      <td>[{'iso_3166_1': 'US', 'name': 'United States o...</td>\n",
              "      <td>10-02-1995</td>\n",
              "      <td>...</td>\n",
              "      <td>106.0</td>\n",
              "      <td>[{'iso_639_1': 'en', 'name': 'English'}]</td>\n",
              "      <td>Released</td>\n",
              "      <td>Just When His World Is Back To Normal... He's ...</td>\n",
              "      <td>Father of the Bride Part II</td>\n",
              "      <td>5.7</td>\n",
              "      <td>173.0</td>\n",
              "      <td>[{'cast_id': 1, 'character': 'George Banks', '...</td>\n",
              "      <td>[{'credit_id': '52fe44959251416c75039ed7', 'de...</td>\n",
              "      <td>11862</td>\n",
              "    </tr>\n",
              "    <tr>\n",
              "      <th>5</th>\n",
              "      <td>60000000</td>\n",
              "      <td>[{'id': 28, 'name': 'Action'}, {'id': 80, 'nam...</td>\n",
              "      <td>NaN</td>\n",
              "      <td>949</td>\n",
              "      <td>en</td>\n",
              "      <td>Heat</td>\n",
              "      <td>Obsessive master thief, Neil McCauley leads a ...</td>\n",
              "      <td>[{'name': 'Regency Enterprises', 'id': 508}, {...</td>\n",
              "      <td>[{'iso_3166_1': 'US', 'name': 'United States o...</td>\n",
              "      <td>15-12-1995</td>\n",
              "      <td>...</td>\n",
              "      <td>170.0</td>\n",
              "      <td>[{'iso_639_1': 'en', 'name': 'English'}, {'iso...</td>\n",
              "      <td>Released</td>\n",
              "      <td>A Los Angeles Crime Saga</td>\n",
              "      <td>Heat</td>\n",
              "      <td>7.7</td>\n",
              "      <td>1886.0</td>\n",
              "      <td>[{'cast_id': 25, 'character': 'Lt. Vincent Han...</td>\n",
              "      <td>[{'credit_id': '52fe4292c3a36847f802916d', 'de...</td>\n",
              "      <td>949</td>\n",
              "    </tr>\n",
              "    <tr>\n",
              "      <th>6</th>\n",
              "      <td>58000000</td>\n",
              "      <td>[{'id': 35, 'name': 'Comedy'}, {'id': 10749, '...</td>\n",
              "      <td>NaN</td>\n",
              "      <td>11860</td>\n",
              "      <td>en</td>\n",
              "      <td>Sabrina</td>\n",
              "      <td>An ugly duckling having undergone a remarkable...</td>\n",
              "      <td>[{'name': 'Paramount Pictures', 'id': 4}, {'na...</td>\n",
              "      <td>[{'iso_3166_1': 'DE', 'name': 'Germany'}, {'is...</td>\n",
              "      <td>15-12-1995</td>\n",
              "      <td>...</td>\n",
              "      <td>127.0</td>\n",
              "      <td>[{'iso_639_1': 'fr', 'name': 'Français'}, {'is...</td>\n",
              "      <td>Released</td>\n",
              "      <td>You are cordially invited to the most surprisi...</td>\n",
              "      <td>Sabrina</td>\n",
              "      <td>6.2</td>\n",
              "      <td>141.0</td>\n",
              "      <td>[{'cast_id': 1, 'character': 'Linus Larrabee',...</td>\n",
              "      <td>[{'credit_id': '52fe44959251416c75039da9', 'de...</td>\n",
              "      <td>11860</td>\n",
              "    </tr>\n",
              "    <tr>\n",
              "      <th>7</th>\n",
              "      <td>0</td>\n",
              "      <td>[{'id': 28, 'name': 'Action'}, {'id': 12, 'nam...</td>\n",
              "      <td>NaN</td>\n",
              "      <td>45325</td>\n",
              "      <td>en</td>\n",
              "      <td>Tom and Huck</td>\n",
              "      <td>A mischievous young boy, Tom Sawyer, witnesses...</td>\n",
              "      <td>[{'name': 'Walt Disney Pictures', 'id': 2}]</td>\n",
              "      <td>[{'iso_3166_1': 'US', 'name': 'United States o...</td>\n",
              "      <td>22-12-1995</td>\n",
              "      <td>...</td>\n",
              "      <td>97.0</td>\n",
              "      <td>[{'iso_639_1': 'en', 'name': 'English'}, {'iso...</td>\n",
              "      <td>Released</td>\n",
              "      <td>The Original Bad Boys.</td>\n",
              "      <td>Tom and Huck</td>\n",
              "      <td>5.4</td>\n",
              "      <td>45.0</td>\n",
              "      <td>[{'cast_id': 2, 'character': 'Tom Sawyer', 'cr...</td>\n",
              "      <td>[{'credit_id': '52fe46bdc3a36847f810f797', 'de...</td>\n",
              "      <td>45325</td>\n",
              "    </tr>\n",
              "    <tr>\n",
              "      <th>8</th>\n",
              "      <td>35000000</td>\n",
              "      <td>[{'id': 28, 'name': 'Action'}, {'id': 12, 'nam...</td>\n",
              "      <td>NaN</td>\n",
              "      <td>9091</td>\n",
              "      <td>en</td>\n",
              "      <td>Sudden Death</td>\n",
              "      <td>International action superstar Jean Claude Van...</td>\n",
              "      <td>[{'name': 'Universal Pictures', 'id': 33}, {'n...</td>\n",
              "      <td>[{'iso_3166_1': 'US', 'name': 'United States o...</td>\n",
              "      <td>22-12-1995</td>\n",
              "      <td>...</td>\n",
              "      <td>106.0</td>\n",
              "      <td>[{'iso_639_1': 'en', 'name': 'English'}]</td>\n",
              "      <td>Released</td>\n",
              "      <td>Terror goes into overtime.</td>\n",
              "      <td>Sudden Death</td>\n",
              "      <td>5.5</td>\n",
              "      <td>174.0</td>\n",
              "      <td>[{'cast_id': 1, 'character': 'Darren Francis T...</td>\n",
              "      <td>[{'credit_id': '52fe44dbc3a36847f80ae0f1', 'de...</td>\n",
              "      <td>9091</td>\n",
              "    </tr>\n",
              "    <tr>\n",
              "      <th>9</th>\n",
              "      <td>58000000</td>\n",
              "      <td>[{'id': 12, 'name': 'Adventure'}, {'id': 28, '...</td>\n",
              "      <td>http://www.mgm.com/view/movie/757/Goldeneye/</td>\n",
              "      <td>710</td>\n",
              "      <td>en</td>\n",
              "      <td>GoldenEye</td>\n",
              "      <td>James Bond must unmask the mysterious head of ...</td>\n",
              "      <td>[{'name': 'United Artists', 'id': 60}, {'name'...</td>\n",
              "      <td>[{'iso_3166_1': 'GB', 'name': 'United Kingdom'...</td>\n",
              "      <td>16-11-1995</td>\n",
              "      <td>...</td>\n",
              "      <td>130.0</td>\n",
              "      <td>[{'iso_639_1': 'en', 'name': 'English'}, {'iso...</td>\n",
              "      <td>Released</td>\n",
              "      <td>No limits. No fears. No substitutes.</td>\n",
              "      <td>GoldenEye</td>\n",
              "      <td>6.6</td>\n",
              "      <td>1194.0</td>\n",
              "      <td>[{'cast_id': 1, 'character': 'James Bond', 'cr...</td>\n",
              "      <td>[{'credit_id': '52fe426ec3a36847f801e14b', 'de...</td>\n",
              "      <td>710</td>\n",
              "    </tr>\n",
              "  </tbody>\n",
              "</table>\n",
              "<p>10 rows × 21 columns</p>\n",
              "</div>"
            ],
            "text/plain": [
              "     budget                                             genres  \\\n",
              "0  30000000  [{'id': 16, 'name': 'Animation'}, {'id': 35, '...   \n",
              "1  65000000  [{'id': 12, 'name': 'Adventure'}, {'id': 14, '...   \n",
              "2         0  [{'id': 10749, 'name': 'Romance'}, {'id': 35, ...   \n",
              "3  16000000  [{'id': 35, 'name': 'Comedy'}, {'id': 18, 'nam...   \n",
              "4         0                     [{'id': 35, 'name': 'Comedy'}]   \n",
              "5  60000000  [{'id': 28, 'name': 'Action'}, {'id': 80, 'nam...   \n",
              "6  58000000  [{'id': 35, 'name': 'Comedy'}, {'id': 10749, '...   \n",
              "7         0  [{'id': 28, 'name': 'Action'}, {'id': 12, 'nam...   \n",
              "8  35000000  [{'id': 28, 'name': 'Action'}, {'id': 12, 'nam...   \n",
              "9  58000000  [{'id': 12, 'name': 'Adventure'}, {'id': 28, '...   \n",
              "\n",
              "                                       homepage     id original_language  \\\n",
              "0          http://toystory.disney.com/toy-story    862                en   \n",
              "1                                           NaN   8844                en   \n",
              "2                                           NaN  15602                en   \n",
              "3                                           NaN  31357                en   \n",
              "4                                           NaN  11862                en   \n",
              "5                                           NaN    949                en   \n",
              "6                                           NaN  11860                en   \n",
              "7                                           NaN  45325                en   \n",
              "8                                           NaN   9091                en   \n",
              "9  http://www.mgm.com/view/movie/757/Goldeneye/    710                en   \n",
              "\n",
              "                original_title  \\\n",
              "0                    Toy Story   \n",
              "1                      Jumanji   \n",
              "2             Grumpier Old Men   \n",
              "3            Waiting to Exhale   \n",
              "4  Father of the Bride Part II   \n",
              "5                         Heat   \n",
              "6                      Sabrina   \n",
              "7                 Tom and Huck   \n",
              "8                 Sudden Death   \n",
              "9                    GoldenEye   \n",
              "\n",
              "                                            overview  \\\n",
              "0  Led by Woody, Andy's toys live happily in his ...   \n",
              "1  When siblings Judy and Peter discover an encha...   \n",
              "2  A family wedding reignites the ancient feud be...   \n",
              "3  Cheated on, mistreated and stepped on, the wom...   \n",
              "4  Just when George Banks has recovered from his ...   \n",
              "5  Obsessive master thief, Neil McCauley leads a ...   \n",
              "6  An ugly duckling having undergone a remarkable...   \n",
              "7  A mischievous young boy, Tom Sawyer, witnesses...   \n",
              "8  International action superstar Jean Claude Van...   \n",
              "9  James Bond must unmask the mysterious head of ...   \n",
              "\n",
              "                                production_companies  \\\n",
              "0     [{'name': 'Pixar Animation Studios', 'id': 3}]   \n",
              "1  [{'name': 'TriStar Pictures', 'id': 559}, {'na...   \n",
              "2  [{'name': 'Warner Bros.', 'id': 6194}, {'name'...   \n",
              "3  [{'name': 'Twentieth Century Fox Film Corporat...   \n",
              "4  [{'name': 'Sandollar Productions', 'id': 5842}...   \n",
              "5  [{'name': 'Regency Enterprises', 'id': 508}, {...   \n",
              "6  [{'name': 'Paramount Pictures', 'id': 4}, {'na...   \n",
              "7        [{'name': 'Walt Disney Pictures', 'id': 2}]   \n",
              "8  [{'name': 'Universal Pictures', 'id': 33}, {'n...   \n",
              "9  [{'name': 'United Artists', 'id': 60}, {'name'...   \n",
              "\n",
              "                                production_countries release_date  ...  \\\n",
              "0  [{'iso_3166_1': 'US', 'name': 'United States o...   30-10-1995  ...   \n",
              "1  [{'iso_3166_1': 'US', 'name': 'United States o...   15-12-1995  ...   \n",
              "2  [{'iso_3166_1': 'US', 'name': 'United States o...   22-12-1995  ...   \n",
              "3  [{'iso_3166_1': 'US', 'name': 'United States o...   22-12-1995  ...   \n",
              "4  [{'iso_3166_1': 'US', 'name': 'United States o...   10-02-1995  ...   \n",
              "5  [{'iso_3166_1': 'US', 'name': 'United States o...   15-12-1995  ...   \n",
              "6  [{'iso_3166_1': 'DE', 'name': 'Germany'}, {'is...   15-12-1995  ...   \n",
              "7  [{'iso_3166_1': 'US', 'name': 'United States o...   22-12-1995  ...   \n",
              "8  [{'iso_3166_1': 'US', 'name': 'United States o...   22-12-1995  ...   \n",
              "9  [{'iso_3166_1': 'GB', 'name': 'United Kingdom'...   16-11-1995  ...   \n",
              "\n",
              "   runtime                                   spoken_languages    status  \\\n",
              "0     81.0           [{'iso_639_1': 'en', 'name': 'English'}]  Released   \n",
              "1    104.0  [{'iso_639_1': 'en', 'name': 'English'}, {'iso...  Released   \n",
              "2    101.0           [{'iso_639_1': 'en', 'name': 'English'}]  Released   \n",
              "3    127.0           [{'iso_639_1': 'en', 'name': 'English'}]  Released   \n",
              "4    106.0           [{'iso_639_1': 'en', 'name': 'English'}]  Released   \n",
              "5    170.0  [{'iso_639_1': 'en', 'name': 'English'}, {'iso...  Released   \n",
              "6    127.0  [{'iso_639_1': 'fr', 'name': 'Français'}, {'is...  Released   \n",
              "7     97.0  [{'iso_639_1': 'en', 'name': 'English'}, {'iso...  Released   \n",
              "8    106.0           [{'iso_639_1': 'en', 'name': 'English'}]  Released   \n",
              "9    130.0  [{'iso_639_1': 'en', 'name': 'English'}, {'iso...  Released   \n",
              "\n",
              "                                             tagline  \\\n",
              "0                                                NaN   \n",
              "1          Roll the dice and unleash the excitement!   \n",
              "2  Still Yelling. Still Fighting. Still Ready for...   \n",
              "3  Friends are the people who let you be yourself...   \n",
              "4  Just When His World Is Back To Normal... He's ...   \n",
              "5                           A Los Angeles Crime Saga   \n",
              "6  You are cordially invited to the most surprisi...   \n",
              "7                             The Original Bad Boys.   \n",
              "8                         Terror goes into overtime.   \n",
              "9               No limits. No fears. No substitutes.   \n",
              "\n",
              "                         title vote_average  vote_count  \\\n",
              "0                    Toy Story          7.7      5415.0   \n",
              "1                      Jumanji          6.9      2413.0   \n",
              "2             Grumpier Old Men          6.5        92.0   \n",
              "3            Waiting to Exhale          6.1        34.0   \n",
              "4  Father of the Bride Part II          5.7       173.0   \n",
              "5                         Heat          7.7      1886.0   \n",
              "6                      Sabrina          6.2       141.0   \n",
              "7                 Tom and Huck          5.4        45.0   \n",
              "8                 Sudden Death          5.5       174.0   \n",
              "9                    GoldenEye          6.6      1194.0   \n",
              "\n",
              "                                                cast  \\\n",
              "0  [{'cast_id': 14, 'character': 'Woody (voice)',...   \n",
              "1  [{'cast_id': 1, 'character': 'Alan Parrish', '...   \n",
              "2  [{'cast_id': 2, 'character': 'Max Goldman', 'c...   \n",
              "3  [{'cast_id': 1, 'character': \"Savannah 'Vannah...   \n",
              "4  [{'cast_id': 1, 'character': 'George Banks', '...   \n",
              "5  [{'cast_id': 25, 'character': 'Lt. Vincent Han...   \n",
              "6  [{'cast_id': 1, 'character': 'Linus Larrabee',...   \n",
              "7  [{'cast_id': 2, 'character': 'Tom Sawyer', 'cr...   \n",
              "8  [{'cast_id': 1, 'character': 'Darren Francis T...   \n",
              "9  [{'cast_id': 1, 'character': 'James Bond', 'cr...   \n",
              "\n",
              "                                                crew     id  \n",
              "0  [{'credit_id': '52fe4284c3a36847f8024f49', 'de...    862  \n",
              "1  [{'credit_id': '52fe44bfc3a36847f80a7cd1', 'de...   8844  \n",
              "2  [{'credit_id': '52fe466a9251416c75077a89', 'de...  15602  \n",
              "3  [{'credit_id': '52fe44779251416c91011acb', 'de...  31357  \n",
              "4  [{'credit_id': '52fe44959251416c75039ed7', 'de...  11862  \n",
              "5  [{'credit_id': '52fe4292c3a36847f802916d', 'de...    949  \n",
              "6  [{'credit_id': '52fe44959251416c75039da9', 'de...  11860  \n",
              "7  [{'credit_id': '52fe46bdc3a36847f810f797', 'de...  45325  \n",
              "8  [{'credit_id': '52fe44dbc3a36847f80ae0f1', 'de...   9091  \n",
              "9  [{'credit_id': '52fe426ec3a36847f801e14b', 'de...    710  \n",
              "\n",
              "[10 rows x 21 columns]"
            ]
          },
          "execution_count": 7,
          "metadata": {},
          "output_type": "execute_result"
        }
      ],
      "source": [
        "movies=pd.concat([movies, credits], axis=1)\n",
        "movies.head(10)"
      ]
    },
    {
      "cell_type": "code",
      "execution_count": 8,
      "id": "c13c6c0a",
      "metadata": {},
      "outputs": [
        {
          "data": {
            "text/html": [
              "<div>\n",
              "<style scoped>\n",
              "    .dataframe tbody tr th:only-of-type {\n",
              "        vertical-align: middle;\n",
              "    }\n",
              "\n",
              "    .dataframe tbody tr th {\n",
              "        vertical-align: top;\n",
              "    }\n",
              "\n",
              "    .dataframe thead th {\n",
              "        text-align: right;\n",
              "    }\n",
              "</style>\n",
              "<table border=\"1\" class=\"dataframe\">\n",
              "  <thead>\n",
              "    <tr style=\"text-align: right;\">\n",
              "      <th></th>\n",
              "      <th>budget</th>\n",
              "      <th>genres</th>\n",
              "      <th>homepage</th>\n",
              "      <th>id</th>\n",
              "      <th>original_language</th>\n",
              "      <th>original_title</th>\n",
              "      <th>overview</th>\n",
              "      <th>production_companies</th>\n",
              "      <th>production_countries</th>\n",
              "      <th>release_date</th>\n",
              "      <th>...</th>\n",
              "      <th>status</th>\n",
              "      <th>tagline</th>\n",
              "      <th>title</th>\n",
              "      <th>vote_average</th>\n",
              "      <th>vote_count</th>\n",
              "      <th>cast</th>\n",
              "      <th>crew</th>\n",
              "      <th>id</th>\n",
              "      <th>id</th>\n",
              "      <th>keywords</th>\n",
              "    </tr>\n",
              "  </thead>\n",
              "  <tbody>\n",
              "    <tr>\n",
              "      <th>0</th>\n",
              "      <td>30000000</td>\n",
              "      <td>[{'id': 16, 'name': 'Animation'}, {'id': 35, '...</td>\n",
              "      <td>http://toystory.disney.com/toy-story</td>\n",
              "      <td>862</td>\n",
              "      <td>en</td>\n",
              "      <td>Toy Story</td>\n",
              "      <td>Led by Woody, Andy's toys live happily in his ...</td>\n",
              "      <td>[{'name': 'Pixar Animation Studios', 'id': 3}]</td>\n",
              "      <td>[{'iso_3166_1': 'US', 'name': 'United States o...</td>\n",
              "      <td>30-10-1995</td>\n",
              "      <td>...</td>\n",
              "      <td>Released</td>\n",
              "      <td>NaN</td>\n",
              "      <td>Toy Story</td>\n",
              "      <td>7.7</td>\n",
              "      <td>5415.0</td>\n",
              "      <td>[{'cast_id': 14, 'character': 'Woody (voice)',...</td>\n",
              "      <td>[{'credit_id': '52fe4284c3a36847f8024f49', 'de...</td>\n",
              "      <td>862.0</td>\n",
              "      <td>862</td>\n",
              "      <td>[{'id': 931, 'name': 'jealousy'}, {'id': 4290,...</td>\n",
              "    </tr>\n",
              "    <tr>\n",
              "      <th>1</th>\n",
              "      <td>65000000</td>\n",
              "      <td>[{'id': 12, 'name': 'Adventure'}, {'id': 14, '...</td>\n",
              "      <td>NaN</td>\n",
              "      <td>8844</td>\n",
              "      <td>en</td>\n",
              "      <td>Jumanji</td>\n",
              "      <td>When siblings Judy and Peter discover an encha...</td>\n",
              "      <td>[{'name': 'TriStar Pictures', 'id': 559}, {'na...</td>\n",
              "      <td>[{'iso_3166_1': 'US', 'name': 'United States o...</td>\n",
              "      <td>15-12-1995</td>\n",
              "      <td>...</td>\n",
              "      <td>Released</td>\n",
              "      <td>Roll the dice and unleash the excitement!</td>\n",
              "      <td>Jumanji</td>\n",
              "      <td>6.9</td>\n",
              "      <td>2413.0</td>\n",
              "      <td>[{'cast_id': 1, 'character': 'Alan Parrish', '...</td>\n",
              "      <td>[{'credit_id': '52fe44bfc3a36847f80a7cd1', 'de...</td>\n",
              "      <td>8844.0</td>\n",
              "      <td>8844</td>\n",
              "      <td>[{'id': 10090, 'name': 'board game'}, {'id': 1...</td>\n",
              "    </tr>\n",
              "    <tr>\n",
              "      <th>2</th>\n",
              "      <td>0</td>\n",
              "      <td>[{'id': 10749, 'name': 'Romance'}, {'id': 35, ...</td>\n",
              "      <td>NaN</td>\n",
              "      <td>15602</td>\n",
              "      <td>en</td>\n",
              "      <td>Grumpier Old Men</td>\n",
              "      <td>A family wedding reignites the ancient feud be...</td>\n",
              "      <td>[{'name': 'Warner Bros.', 'id': 6194}, {'name'...</td>\n",
              "      <td>[{'iso_3166_1': 'US', 'name': 'United States o...</td>\n",
              "      <td>22-12-1995</td>\n",
              "      <td>...</td>\n",
              "      <td>Released</td>\n",
              "      <td>Still Yelling. Still Fighting. Still Ready for...</td>\n",
              "      <td>Grumpier Old Men</td>\n",
              "      <td>6.5</td>\n",
              "      <td>92.0</td>\n",
              "      <td>[{'cast_id': 2, 'character': 'Max Goldman', 'c...</td>\n",
              "      <td>[{'credit_id': '52fe466a9251416c75077a89', 'de...</td>\n",
              "      <td>15602.0</td>\n",
              "      <td>15602</td>\n",
              "      <td>[{'id': 1495, 'name': 'fishing'}, {'id': 12392...</td>\n",
              "    </tr>\n",
              "    <tr>\n",
              "      <th>3</th>\n",
              "      <td>16000000</td>\n",
              "      <td>[{'id': 35, 'name': 'Comedy'}, {'id': 18, 'nam...</td>\n",
              "      <td>NaN</td>\n",
              "      <td>31357</td>\n",
              "      <td>en</td>\n",
              "      <td>Waiting to Exhale</td>\n",
              "      <td>Cheated on, mistreated and stepped on, the wom...</td>\n",
              "      <td>[{'name': 'Twentieth Century Fox Film Corporat...</td>\n",
              "      <td>[{'iso_3166_1': 'US', 'name': 'United States o...</td>\n",
              "      <td>22-12-1995</td>\n",
              "      <td>...</td>\n",
              "      <td>Released</td>\n",
              "      <td>Friends are the people who let you be yourself...</td>\n",
              "      <td>Waiting to Exhale</td>\n",
              "      <td>6.1</td>\n",
              "      <td>34.0</td>\n",
              "      <td>[{'cast_id': 1, 'character': \"Savannah 'Vannah...</td>\n",
              "      <td>[{'credit_id': '52fe44779251416c91011acb', 'de...</td>\n",
              "      <td>31357.0</td>\n",
              "      <td>31357</td>\n",
              "      <td>[{'id': 818, 'name': 'based on novel'}, {'id':...</td>\n",
              "    </tr>\n",
              "    <tr>\n",
              "      <th>4</th>\n",
              "      <td>0</td>\n",
              "      <td>[{'id': 35, 'name': 'Comedy'}]</td>\n",
              "      <td>NaN</td>\n",
              "      <td>11862</td>\n",
              "      <td>en</td>\n",
              "      <td>Father of the Bride Part II</td>\n",
              "      <td>Just when George Banks has recovered from his ...</td>\n",
              "      <td>[{'name': 'Sandollar Productions', 'id': 5842}...</td>\n",
              "      <td>[{'iso_3166_1': 'US', 'name': 'United States o...</td>\n",
              "      <td>10-02-1995</td>\n",
              "      <td>...</td>\n",
              "      <td>Released</td>\n",
              "      <td>Just When His World Is Back To Normal... He's ...</td>\n",
              "      <td>Father of the Bride Part II</td>\n",
              "      <td>5.7</td>\n",
              "      <td>173.0</td>\n",
              "      <td>[{'cast_id': 1, 'character': 'George Banks', '...</td>\n",
              "      <td>[{'credit_id': '52fe44959251416c75039ed7', 'de...</td>\n",
              "      <td>11862.0</td>\n",
              "      <td>11862</td>\n",
              "      <td>[{'id': 1009, 'name': 'baby'}, {'id': 1599, 'n...</td>\n",
              "    </tr>\n",
              "    <tr>\n",
              "      <th>5</th>\n",
              "      <td>60000000</td>\n",
              "      <td>[{'id': 28, 'name': 'Action'}, {'id': 80, 'nam...</td>\n",
              "      <td>NaN</td>\n",
              "      <td>949</td>\n",
              "      <td>en</td>\n",
              "      <td>Heat</td>\n",
              "      <td>Obsessive master thief, Neil McCauley leads a ...</td>\n",
              "      <td>[{'name': 'Regency Enterprises', 'id': 508}, {...</td>\n",
              "      <td>[{'iso_3166_1': 'US', 'name': 'United States o...</td>\n",
              "      <td>15-12-1995</td>\n",
              "      <td>...</td>\n",
              "      <td>Released</td>\n",
              "      <td>A Los Angeles Crime Saga</td>\n",
              "      <td>Heat</td>\n",
              "      <td>7.7</td>\n",
              "      <td>1886.0</td>\n",
              "      <td>[{'cast_id': 25, 'character': 'Lt. Vincent Han...</td>\n",
              "      <td>[{'credit_id': '52fe4292c3a36847f802916d', 'de...</td>\n",
              "      <td>949.0</td>\n",
              "      <td>949</td>\n",
              "      <td>[{'id': 642, 'name': 'robbery'}, {'id': 703, '...</td>\n",
              "    </tr>\n",
              "    <tr>\n",
              "      <th>6</th>\n",
              "      <td>58000000</td>\n",
              "      <td>[{'id': 35, 'name': 'Comedy'}, {'id': 10749, '...</td>\n",
              "      <td>NaN</td>\n",
              "      <td>11860</td>\n",
              "      <td>en</td>\n",
              "      <td>Sabrina</td>\n",
              "      <td>An ugly duckling having undergone a remarkable...</td>\n",
              "      <td>[{'name': 'Paramount Pictures', 'id': 4}, {'na...</td>\n",
              "      <td>[{'iso_3166_1': 'DE', 'name': 'Germany'}, {'is...</td>\n",
              "      <td>15-12-1995</td>\n",
              "      <td>...</td>\n",
              "      <td>Released</td>\n",
              "      <td>You are cordially invited to the most surprisi...</td>\n",
              "      <td>Sabrina</td>\n",
              "      <td>6.2</td>\n",
              "      <td>141.0</td>\n",
              "      <td>[{'cast_id': 1, 'character': 'Linus Larrabee',...</td>\n",
              "      <td>[{'credit_id': '52fe44959251416c75039da9', 'de...</td>\n",
              "      <td>11860.0</td>\n",
              "      <td>11860</td>\n",
              "      <td>[{'id': 90, 'name': 'paris'}, {'id': 380, 'nam...</td>\n",
              "    </tr>\n",
              "    <tr>\n",
              "      <th>7</th>\n",
              "      <td>0</td>\n",
              "      <td>[{'id': 28, 'name': 'Action'}, {'id': 12, 'nam...</td>\n",
              "      <td>NaN</td>\n",
              "      <td>45325</td>\n",
              "      <td>en</td>\n",
              "      <td>Tom and Huck</td>\n",
              "      <td>A mischievous young boy, Tom Sawyer, witnesses...</td>\n",
              "      <td>[{'name': 'Walt Disney Pictures', 'id': 2}]</td>\n",
              "      <td>[{'iso_3166_1': 'US', 'name': 'United States o...</td>\n",
              "      <td>22-12-1995</td>\n",
              "      <td>...</td>\n",
              "      <td>Released</td>\n",
              "      <td>The Original Bad Boys.</td>\n",
              "      <td>Tom and Huck</td>\n",
              "      <td>5.4</td>\n",
              "      <td>45.0</td>\n",
              "      <td>[{'cast_id': 2, 'character': 'Tom Sawyer', 'cr...</td>\n",
              "      <td>[{'credit_id': '52fe46bdc3a36847f810f797', 'de...</td>\n",
              "      <td>45325.0</td>\n",
              "      <td>45325</td>\n",
              "      <td>[]</td>\n",
              "    </tr>\n",
              "    <tr>\n",
              "      <th>8</th>\n",
              "      <td>35000000</td>\n",
              "      <td>[{'id': 28, 'name': 'Action'}, {'id': 12, 'nam...</td>\n",
              "      <td>NaN</td>\n",
              "      <td>9091</td>\n",
              "      <td>en</td>\n",
              "      <td>Sudden Death</td>\n",
              "      <td>International action superstar Jean Claude Van...</td>\n",
              "      <td>[{'name': 'Universal Pictures', 'id': 33}, {'n...</td>\n",
              "      <td>[{'iso_3166_1': 'US', 'name': 'United States o...</td>\n",
              "      <td>22-12-1995</td>\n",
              "      <td>...</td>\n",
              "      <td>Released</td>\n",
              "      <td>Terror goes into overtime.</td>\n",
              "      <td>Sudden Death</td>\n",
              "      <td>5.5</td>\n",
              "      <td>174.0</td>\n",
              "      <td>[{'cast_id': 1, 'character': 'Darren Francis T...</td>\n",
              "      <td>[{'credit_id': '52fe44dbc3a36847f80ae0f1', 'de...</td>\n",
              "      <td>9091.0</td>\n",
              "      <td>9091</td>\n",
              "      <td>[{'id': 949, 'name': 'terrorist'}, {'id': 1562...</td>\n",
              "    </tr>\n",
              "    <tr>\n",
              "      <th>9</th>\n",
              "      <td>58000000</td>\n",
              "      <td>[{'id': 12, 'name': 'Adventure'}, {'id': 28, '...</td>\n",
              "      <td>http://www.mgm.com/view/movie/757/Goldeneye/</td>\n",
              "      <td>710</td>\n",
              "      <td>en</td>\n",
              "      <td>GoldenEye</td>\n",
              "      <td>James Bond must unmask the mysterious head of ...</td>\n",
              "      <td>[{'name': 'United Artists', 'id': 60}, {'name'...</td>\n",
              "      <td>[{'iso_3166_1': 'GB', 'name': 'United Kingdom'...</td>\n",
              "      <td>16-11-1995</td>\n",
              "      <td>...</td>\n",
              "      <td>Released</td>\n",
              "      <td>No limits. No fears. No substitutes.</td>\n",
              "      <td>GoldenEye</td>\n",
              "      <td>6.6</td>\n",
              "      <td>1194.0</td>\n",
              "      <td>[{'cast_id': 1, 'character': 'James Bond', 'cr...</td>\n",
              "      <td>[{'credit_id': '52fe426ec3a36847f801e14b', 'de...</td>\n",
              "      <td>710.0</td>\n",
              "      <td>710</td>\n",
              "      <td>[{'id': 701, 'name': 'cuba'}, {'id': 769, 'nam...</td>\n",
              "    </tr>\n",
              "  </tbody>\n",
              "</table>\n",
              "<p>10 rows × 23 columns</p>\n",
              "</div>"
            ],
            "text/plain": [
              "     budget                                             genres  \\\n",
              "0  30000000  [{'id': 16, 'name': 'Animation'}, {'id': 35, '...   \n",
              "1  65000000  [{'id': 12, 'name': 'Adventure'}, {'id': 14, '...   \n",
              "2         0  [{'id': 10749, 'name': 'Romance'}, {'id': 35, ...   \n",
              "3  16000000  [{'id': 35, 'name': 'Comedy'}, {'id': 18, 'nam...   \n",
              "4         0                     [{'id': 35, 'name': 'Comedy'}]   \n",
              "5  60000000  [{'id': 28, 'name': 'Action'}, {'id': 80, 'nam...   \n",
              "6  58000000  [{'id': 35, 'name': 'Comedy'}, {'id': 10749, '...   \n",
              "7         0  [{'id': 28, 'name': 'Action'}, {'id': 12, 'nam...   \n",
              "8  35000000  [{'id': 28, 'name': 'Action'}, {'id': 12, 'nam...   \n",
              "9  58000000  [{'id': 12, 'name': 'Adventure'}, {'id': 28, '...   \n",
              "\n",
              "                                       homepage     id original_language  \\\n",
              "0          http://toystory.disney.com/toy-story    862                en   \n",
              "1                                           NaN   8844                en   \n",
              "2                                           NaN  15602                en   \n",
              "3                                           NaN  31357                en   \n",
              "4                                           NaN  11862                en   \n",
              "5                                           NaN    949                en   \n",
              "6                                           NaN  11860                en   \n",
              "7                                           NaN  45325                en   \n",
              "8                                           NaN   9091                en   \n",
              "9  http://www.mgm.com/view/movie/757/Goldeneye/    710                en   \n",
              "\n",
              "                original_title  \\\n",
              "0                    Toy Story   \n",
              "1                      Jumanji   \n",
              "2             Grumpier Old Men   \n",
              "3            Waiting to Exhale   \n",
              "4  Father of the Bride Part II   \n",
              "5                         Heat   \n",
              "6                      Sabrina   \n",
              "7                 Tom and Huck   \n",
              "8                 Sudden Death   \n",
              "9                    GoldenEye   \n",
              "\n",
              "                                            overview  \\\n",
              "0  Led by Woody, Andy's toys live happily in his ...   \n",
              "1  When siblings Judy and Peter discover an encha...   \n",
              "2  A family wedding reignites the ancient feud be...   \n",
              "3  Cheated on, mistreated and stepped on, the wom...   \n",
              "4  Just when George Banks has recovered from his ...   \n",
              "5  Obsessive master thief, Neil McCauley leads a ...   \n",
              "6  An ugly duckling having undergone a remarkable...   \n",
              "7  A mischievous young boy, Tom Sawyer, witnesses...   \n",
              "8  International action superstar Jean Claude Van...   \n",
              "9  James Bond must unmask the mysterious head of ...   \n",
              "\n",
              "                                production_companies  \\\n",
              "0     [{'name': 'Pixar Animation Studios', 'id': 3}]   \n",
              "1  [{'name': 'TriStar Pictures', 'id': 559}, {'na...   \n",
              "2  [{'name': 'Warner Bros.', 'id': 6194}, {'name'...   \n",
              "3  [{'name': 'Twentieth Century Fox Film Corporat...   \n",
              "4  [{'name': 'Sandollar Productions', 'id': 5842}...   \n",
              "5  [{'name': 'Regency Enterprises', 'id': 508}, {...   \n",
              "6  [{'name': 'Paramount Pictures', 'id': 4}, {'na...   \n",
              "7        [{'name': 'Walt Disney Pictures', 'id': 2}]   \n",
              "8  [{'name': 'Universal Pictures', 'id': 33}, {'n...   \n",
              "9  [{'name': 'United Artists', 'id': 60}, {'name'...   \n",
              "\n",
              "                                production_countries release_date  ...  \\\n",
              "0  [{'iso_3166_1': 'US', 'name': 'United States o...   30-10-1995  ...   \n",
              "1  [{'iso_3166_1': 'US', 'name': 'United States o...   15-12-1995  ...   \n",
              "2  [{'iso_3166_1': 'US', 'name': 'United States o...   22-12-1995  ...   \n",
              "3  [{'iso_3166_1': 'US', 'name': 'United States o...   22-12-1995  ...   \n",
              "4  [{'iso_3166_1': 'US', 'name': 'United States o...   10-02-1995  ...   \n",
              "5  [{'iso_3166_1': 'US', 'name': 'United States o...   15-12-1995  ...   \n",
              "6  [{'iso_3166_1': 'DE', 'name': 'Germany'}, {'is...   15-12-1995  ...   \n",
              "7  [{'iso_3166_1': 'US', 'name': 'United States o...   22-12-1995  ...   \n",
              "8  [{'iso_3166_1': 'US', 'name': 'United States o...   22-12-1995  ...   \n",
              "9  [{'iso_3166_1': 'GB', 'name': 'United Kingdom'...   16-11-1995  ...   \n",
              "\n",
              "     status                                            tagline  \\\n",
              "0  Released                                                NaN   \n",
              "1  Released          Roll the dice and unleash the excitement!   \n",
              "2  Released  Still Yelling. Still Fighting. Still Ready for...   \n",
              "3  Released  Friends are the people who let you be yourself...   \n",
              "4  Released  Just When His World Is Back To Normal... He's ...   \n",
              "5  Released                           A Los Angeles Crime Saga   \n",
              "6  Released  You are cordially invited to the most surprisi...   \n",
              "7  Released                             The Original Bad Boys.   \n",
              "8  Released                         Terror goes into overtime.   \n",
              "9  Released               No limits. No fears. No substitutes.   \n",
              "\n",
              "                         title vote_average vote_count  \\\n",
              "0                    Toy Story          7.7     5415.0   \n",
              "1                      Jumanji          6.9     2413.0   \n",
              "2             Grumpier Old Men          6.5       92.0   \n",
              "3            Waiting to Exhale          6.1       34.0   \n",
              "4  Father of the Bride Part II          5.7      173.0   \n",
              "5                         Heat          7.7     1886.0   \n",
              "6                      Sabrina          6.2      141.0   \n",
              "7                 Tom and Huck          5.4       45.0   \n",
              "8                 Sudden Death          5.5      174.0   \n",
              "9                    GoldenEye          6.6     1194.0   \n",
              "\n",
              "                                                cast  \\\n",
              "0  [{'cast_id': 14, 'character': 'Woody (voice)',...   \n",
              "1  [{'cast_id': 1, 'character': 'Alan Parrish', '...   \n",
              "2  [{'cast_id': 2, 'character': 'Max Goldman', 'c...   \n",
              "3  [{'cast_id': 1, 'character': \"Savannah 'Vannah...   \n",
              "4  [{'cast_id': 1, 'character': 'George Banks', '...   \n",
              "5  [{'cast_id': 25, 'character': 'Lt. Vincent Han...   \n",
              "6  [{'cast_id': 1, 'character': 'Linus Larrabee',...   \n",
              "7  [{'cast_id': 2, 'character': 'Tom Sawyer', 'cr...   \n",
              "8  [{'cast_id': 1, 'character': 'Darren Francis T...   \n",
              "9  [{'cast_id': 1, 'character': 'James Bond', 'cr...   \n",
              "\n",
              "                                                crew       id     id  \\\n",
              "0  [{'credit_id': '52fe4284c3a36847f8024f49', 'de...    862.0    862   \n",
              "1  [{'credit_id': '52fe44bfc3a36847f80a7cd1', 'de...   8844.0   8844   \n",
              "2  [{'credit_id': '52fe466a9251416c75077a89', 'de...  15602.0  15602   \n",
              "3  [{'credit_id': '52fe44779251416c91011acb', 'de...  31357.0  31357   \n",
              "4  [{'credit_id': '52fe44959251416c75039ed7', 'de...  11862.0  11862   \n",
              "5  [{'credit_id': '52fe4292c3a36847f802916d', 'de...    949.0    949   \n",
              "6  [{'credit_id': '52fe44959251416c75039da9', 'de...  11860.0  11860   \n",
              "7  [{'credit_id': '52fe46bdc3a36847f810f797', 'de...  45325.0  45325   \n",
              "8  [{'credit_id': '52fe44dbc3a36847f80ae0f1', 'de...   9091.0   9091   \n",
              "9  [{'credit_id': '52fe426ec3a36847f801e14b', 'de...    710.0    710   \n",
              "\n",
              "                                            keywords  \n",
              "0  [{'id': 931, 'name': 'jealousy'}, {'id': 4290,...  \n",
              "1  [{'id': 10090, 'name': 'board game'}, {'id': 1...  \n",
              "2  [{'id': 1495, 'name': 'fishing'}, {'id': 12392...  \n",
              "3  [{'id': 818, 'name': 'based on novel'}, {'id':...  \n",
              "4  [{'id': 1009, 'name': 'baby'}, {'id': 1599, 'n...  \n",
              "5  [{'id': 642, 'name': 'robbery'}, {'id': 703, '...  \n",
              "6  [{'id': 90, 'name': 'paris'}, {'id': 380, 'nam...  \n",
              "7                                                 []  \n",
              "8  [{'id': 949, 'name': 'terrorist'}, {'id': 1562...  \n",
              "9  [{'id': 701, 'name': 'cuba'}, {'id': 769, 'nam...  \n",
              "\n",
              "[10 rows x 23 columns]"
            ]
          },
          "execution_count": 8,
          "metadata": {},
          "output_type": "execute_result"
        }
      ],
      "source": [
        "movies=pd.concat([movies, keyword], axis=1)\n",
        "movies.head(10)"
      ]
    },
    {
      "cell_type": "code",
      "execution_count": 9,
      "id": "b74e1bc2",
      "metadata": {
        "colab": {
          "base_uri": "https://localhost:8080/"
        },
        "id": "b74e1bc2",
        "outputId": "9cbbc718-4426-4ee7-b3a9-8678e5d1c610"
      },
      "outputs": [
        {
          "data": {
            "text/plain": [
              "(46419, 23)"
            ]
          },
          "execution_count": 9,
          "metadata": {},
          "output_type": "execute_result"
        }
      ],
      "source": [
        "movies.shape"
      ]
    },
    {
      "cell_type": "code",
      "execution_count": 10,
      "id": "07794d66",
      "metadata": {
        "colab": {
          "base_uri": "https://localhost:8080/"
        },
        "id": "07794d66",
        "outputId": "047b5ed9-a6f7-43aa-da29-74fe4b105585"
      },
      "outputs": [
        {
          "data": {
            "text/plain": [
              "Index(['budget', 'genres', 'homepage', 'id', 'original_language',\n",
              "       'original_title', 'overview', 'production_companies',\n",
              "       'production_countries', 'release_date', 'revenue', 'runtime',\n",
              "       'spoken_languages', 'status', 'tagline', 'title', 'vote_average',\n",
              "       'vote_count', 'cast', 'crew', 'id', 'id', 'keywords'],\n",
              "      dtype='object')"
            ]
          },
          "execution_count": 10,
          "metadata": {},
          "output_type": "execute_result"
        }
      ],
      "source": [
        "# Column names\n",
        "\n",
        "movies.columns"
      ]
    },
    {
      "cell_type": "code",
      "execution_count": 11,
      "id": "6cc42ef9",
      "metadata": {
        "colab": {
          "base_uri": "https://localhost:8080/"
        },
        "id": "6cc42ef9",
        "outputId": "4c8679fd-492b-41ed-9dee-247b108043e8"
      },
      "outputs": [
        {
          "name": "stdout",
          "output_type": "stream",
          "text": [
            "<class 'pandas.core.frame.DataFrame'>\n",
            "Int64Index: 46419 entries, 0 to 46418\n",
            "Data columns (total 23 columns):\n",
            " #   Column                Non-Null Count  Dtype  \n",
            "---  ------                --------------  -----  \n",
            " 0   budget                45466 non-null  object \n",
            " 1   genres                45466 non-null  object \n",
            " 2   homepage              7782 non-null   object \n",
            " 3   id                    45466 non-null  object \n",
            " 4   original_language     45455 non-null  object \n",
            " 5   original_title        45466 non-null  object \n",
            " 6   overview              44512 non-null  object \n",
            " 7   production_companies  45463 non-null  object \n",
            " 8   production_countries  45463 non-null  object \n",
            " 9   release_date          45379 non-null  object \n",
            " 10  revenue               45460 non-null  float64\n",
            " 11  runtime               45203 non-null  float64\n",
            " 12  spoken_languages      45460 non-null  object \n",
            " 13  status                45379 non-null  object \n",
            " 14  tagline               20412 non-null  object \n",
            " 15  title                 45460 non-null  object \n",
            " 16  vote_average          45460 non-null  float64\n",
            " 17  vote_count            45460 non-null  float64\n",
            " 18  cast                  45476 non-null  object \n",
            " 19  crew                  45476 non-null  object \n",
            " 20  id                    45476 non-null  float64\n",
            " 21  id                    46419 non-null  int64  \n",
            " 22  keywords              46419 non-null  object \n",
            "dtypes: float64(5), int64(1), object(17)\n",
            "memory usage: 8.5+ MB\n"
          ]
        }
      ],
      "source": [
        "# information of columns\n",
        "\n",
        "movies.info()"
      ]
    },
    {
      "cell_type": "code",
      "execution_count": 12,
      "id": "4a3da038",
      "metadata": {},
      "outputs": [],
      "source": [
        "movies.columns.values[3]='movie_id'"
      ]
    },
    {
      "cell_type": "markdown",
      "id": "a2066536",
      "metadata": {
        "id": "a2066536"
      },
      "source": [
        "## removing trival columns\n",
        "\n",
        "- important columns\n",
        "    1. genres\n",
        "    2. id\n",
        "    3. keywords\n",
        "    4. title\n",
        "    5. overview\n",
        "    6. cast\n",
        "    7. crew"
      ]
    },
    {
      "cell_type": "code",
      "execution_count": 13,
      "id": "0b8d1523",
      "metadata": {
        "id": "0b8d1523"
      },
      "outputs": [],
      "source": [
        "movies = movies[['movie_id', 'title', 'overview','genres', 'keywords', 'cast', 'crew']]"
      ]
    },
    {
      "cell_type": "code",
      "execution_count": 14,
      "id": "129011cd",
      "metadata": {
        "colab": {
          "base_uri": "https://localhost:8080/",
          "height": 337
        },
        "id": "129011cd",
        "outputId": "f3a7f22f-cd92-43a7-c5f9-214394125794"
      },
      "outputs": [
        {
          "data": {
            "text/html": [
              "<div>\n",
              "<style scoped>\n",
              "    .dataframe tbody tr th:only-of-type {\n",
              "        vertical-align: middle;\n",
              "    }\n",
              "\n",
              "    .dataframe tbody tr th {\n",
              "        vertical-align: top;\n",
              "    }\n",
              "\n",
              "    .dataframe thead th {\n",
              "        text-align: right;\n",
              "    }\n",
              "</style>\n",
              "<table border=\"1\" class=\"dataframe\">\n",
              "  <thead>\n",
              "    <tr style=\"text-align: right;\">\n",
              "      <th></th>\n",
              "      <th>movie_id</th>\n",
              "      <th>title</th>\n",
              "      <th>overview</th>\n",
              "      <th>genres</th>\n",
              "      <th>keywords</th>\n",
              "      <th>cast</th>\n",
              "      <th>crew</th>\n",
              "    </tr>\n",
              "  </thead>\n",
              "  <tbody>\n",
              "    <tr>\n",
              "      <th>0</th>\n",
              "      <td>862</td>\n",
              "      <td>Toy Story</td>\n",
              "      <td>Led by Woody, Andy's toys live happily in his ...</td>\n",
              "      <td>[{'id': 16, 'name': 'Animation'}, {'id': 35, '...</td>\n",
              "      <td>[{'id': 931, 'name': 'jealousy'}, {'id': 4290,...</td>\n",
              "      <td>[{'cast_id': 14, 'character': 'Woody (voice)',...</td>\n",
              "      <td>[{'credit_id': '52fe4284c3a36847f8024f49', 'de...</td>\n",
              "    </tr>\n",
              "    <tr>\n",
              "      <th>1</th>\n",
              "      <td>8844</td>\n",
              "      <td>Jumanji</td>\n",
              "      <td>When siblings Judy and Peter discover an encha...</td>\n",
              "      <td>[{'id': 12, 'name': 'Adventure'}, {'id': 14, '...</td>\n",
              "      <td>[{'id': 10090, 'name': 'board game'}, {'id': 1...</td>\n",
              "      <td>[{'cast_id': 1, 'character': 'Alan Parrish', '...</td>\n",
              "      <td>[{'credit_id': '52fe44bfc3a36847f80a7cd1', 'de...</td>\n",
              "    </tr>\n",
              "    <tr>\n",
              "      <th>2</th>\n",
              "      <td>15602</td>\n",
              "      <td>Grumpier Old Men</td>\n",
              "      <td>A family wedding reignites the ancient feud be...</td>\n",
              "      <td>[{'id': 10749, 'name': 'Romance'}, {'id': 35, ...</td>\n",
              "      <td>[{'id': 1495, 'name': 'fishing'}, {'id': 12392...</td>\n",
              "      <td>[{'cast_id': 2, 'character': 'Max Goldman', 'c...</td>\n",
              "      <td>[{'credit_id': '52fe466a9251416c75077a89', 'de...</td>\n",
              "    </tr>\n",
              "    <tr>\n",
              "      <th>3</th>\n",
              "      <td>31357</td>\n",
              "      <td>Waiting to Exhale</td>\n",
              "      <td>Cheated on, mistreated and stepped on, the wom...</td>\n",
              "      <td>[{'id': 35, 'name': 'Comedy'}, {'id': 18, 'nam...</td>\n",
              "      <td>[{'id': 818, 'name': 'based on novel'}, {'id':...</td>\n",
              "      <td>[{'cast_id': 1, 'character': \"Savannah 'Vannah...</td>\n",
              "      <td>[{'credit_id': '52fe44779251416c91011acb', 'de...</td>\n",
              "    </tr>\n",
              "    <tr>\n",
              "      <th>4</th>\n",
              "      <td>11862</td>\n",
              "      <td>Father of the Bride Part II</td>\n",
              "      <td>Just when George Banks has recovered from his ...</td>\n",
              "      <td>[{'id': 35, 'name': 'Comedy'}]</td>\n",
              "      <td>[{'id': 1009, 'name': 'baby'}, {'id': 1599, 'n...</td>\n",
              "      <td>[{'cast_id': 1, 'character': 'George Banks', '...</td>\n",
              "      <td>[{'credit_id': '52fe44959251416c75039ed7', 'de...</td>\n",
              "    </tr>\n",
              "  </tbody>\n",
              "</table>\n",
              "</div>"
            ],
            "text/plain": [
              "  movie_id                        title  \\\n",
              "0      862                    Toy Story   \n",
              "1     8844                      Jumanji   \n",
              "2    15602             Grumpier Old Men   \n",
              "3    31357            Waiting to Exhale   \n",
              "4    11862  Father of the Bride Part II   \n",
              "\n",
              "                                            overview  \\\n",
              "0  Led by Woody, Andy's toys live happily in his ...   \n",
              "1  When siblings Judy and Peter discover an encha...   \n",
              "2  A family wedding reignites the ancient feud be...   \n",
              "3  Cheated on, mistreated and stepped on, the wom...   \n",
              "4  Just when George Banks has recovered from his ...   \n",
              "\n",
              "                                              genres  \\\n",
              "0  [{'id': 16, 'name': 'Animation'}, {'id': 35, '...   \n",
              "1  [{'id': 12, 'name': 'Adventure'}, {'id': 14, '...   \n",
              "2  [{'id': 10749, 'name': 'Romance'}, {'id': 35, ...   \n",
              "3  [{'id': 35, 'name': 'Comedy'}, {'id': 18, 'nam...   \n",
              "4                     [{'id': 35, 'name': 'Comedy'}]   \n",
              "\n",
              "                                            keywords  \\\n",
              "0  [{'id': 931, 'name': 'jealousy'}, {'id': 4290,...   \n",
              "1  [{'id': 10090, 'name': 'board game'}, {'id': 1...   \n",
              "2  [{'id': 1495, 'name': 'fishing'}, {'id': 12392...   \n",
              "3  [{'id': 818, 'name': 'based on novel'}, {'id':...   \n",
              "4  [{'id': 1009, 'name': 'baby'}, {'id': 1599, 'n...   \n",
              "\n",
              "                                                cast  \\\n",
              "0  [{'cast_id': 14, 'character': 'Woody (voice)',...   \n",
              "1  [{'cast_id': 1, 'character': 'Alan Parrish', '...   \n",
              "2  [{'cast_id': 2, 'character': 'Max Goldman', 'c...   \n",
              "3  [{'cast_id': 1, 'character': \"Savannah 'Vannah...   \n",
              "4  [{'cast_id': 1, 'character': 'George Banks', '...   \n",
              "\n",
              "                                                crew  \n",
              "0  [{'credit_id': '52fe4284c3a36847f8024f49', 'de...  \n",
              "1  [{'credit_id': '52fe44bfc3a36847f80a7cd1', 'de...  \n",
              "2  [{'credit_id': '52fe466a9251416c75077a89', 'de...  \n",
              "3  [{'credit_id': '52fe44779251416c91011acb', 'de...  \n",
              "4  [{'credit_id': '52fe44959251416c75039ed7', 'de...  "
            ]
          },
          "execution_count": 14,
          "metadata": {},
          "output_type": "execute_result"
        }
      ],
      "source": [
        "movies.head()"
      ]
    },
    {
      "cell_type": "code",
      "execution_count": 15,
      "id": "c85c727e",
      "metadata": {
        "colab": {
          "base_uri": "https://localhost:8080/"
        },
        "id": "c85c727e",
        "outputId": "6937086d-fffe-4178-c58c-7cbb6bfd79c2"
      },
      "outputs": [
        {
          "data": {
            "text/plain": [
              "movie_id     953\n",
              "title        959\n",
              "overview    1907\n",
              "genres       953\n",
              "keywords       0\n",
              "cast         943\n",
              "crew         943\n",
              "dtype: int64"
            ]
          },
          "execution_count": 15,
          "metadata": {},
          "output_type": "execute_result"
        }
      ],
      "source": [
        "# finding null data\n",
        "\n",
        "movies.isnull().sum()"
      ]
    },
    {
      "cell_type": "code",
      "execution_count": 16,
      "id": "d845e450",
      "metadata": {
        "colab": {
          "base_uri": "https://localhost:8080/"
        },
        "id": "d845e450",
        "outputId": "2b6fafd2-0bd1-4e14-894d-a210f170254d"
      },
      "outputs": [],
      "source": [
        "# dropping rows with  null overview\n",
        "\n",
        "movies.dropna(inplace = True)"
      ]
    },
    {
      "cell_type": "code",
      "execution_count": 17,
      "id": "9c7fb36e",
      "metadata": {
        "colab": {
          "base_uri": "https://localhost:8080/"
        },
        "id": "9c7fb36e",
        "outputId": "5efa34ae-2f13-405d-f315-08e12477a525"
      },
      "outputs": [
        {
          "data": {
            "text/plain": [
              "8"
            ]
          },
          "execution_count": 17,
          "metadata": {},
          "output_type": "execute_result"
        }
      ],
      "source": [
        "movies.duplicated().sum()"
      ]
    },
    {
      "cell_type": "code",
      "execution_count": 18,
      "id": "fdfa1248",
      "metadata": {
        "colab": {
          "base_uri": "https://localhost:8080/",
          "height": 36
        },
        "id": "fdfa1248",
        "outputId": "1b429bb6-1cdb-42b2-97fa-84764308cc61"
      },
      "outputs": [
        {
          "data": {
            "text/plain": [
              "\"[{'id': 16, 'name': 'Animation'}, {'id': 35, 'name': 'Comedy'}, {'id': 10751, 'name': 'Family'}]\""
            ]
          },
          "execution_count": 18,
          "metadata": {},
          "output_type": "execute_result"
        }
      ],
      "source": [
        "movies.iloc[0].genres"
      ]
    },
    {
      "cell_type": "code",
      "execution_count": 19,
      "id": "2ec89f27",
      "metadata": {
        "id": "2ec89f27"
      },
      "outputs": [],
      "source": [
        "import ast\n",
        "\n",
        "def converter(obj):\n",
        "    list =[]\n",
        "    for i in ast.literal_eval(obj):\n",
        "        list.append(i['name'])\n",
        "    return list"
      ]
    },
    {
      "cell_type": "code",
      "execution_count": 20,
      "id": "f795d667",
      "metadata": {
        "colab": {
          "base_uri": "https://localhost:8080/"
        },
        "id": "f795d667",
        "outputId": "42442205-8a49-497f-be94-b239561b66df"
      },
      "outputs": [
        {
          "data": {
            "text/plain": [
              "['Action', 'Adventure', 'Fantasy', 'Science Fiction']"
            ]
          },
          "execution_count": 20,
          "metadata": {},
          "output_type": "execute_result"
        }
      ],
      "source": [
        "# call the function\n",
        "\n",
        "converter('[{\"id\": 28, \"name\": \"Action\"}, {\"id\": 12, \"name\": \"Adventure\"}, {\"id\": 14, \"name\": \"Fantasy\"}, {\"id\": 878, \"name\": \"Science Fiction\"}]')"
      ]
    },
    {
      "cell_type": "code",
      "execution_count": 21,
      "id": "d24c0111",
      "metadata": {
        "id": "d24c0111"
      },
      "outputs": [],
      "source": [
        "movies['genres'] = movies['genres'].apply(converter)"
      ]
    },
    {
      "cell_type": "code",
      "execution_count": 22,
      "id": "a55f3803",
      "metadata": {
        "colab": {
          "base_uri": "https://localhost:8080/"
        },
        "id": "a55f3803",
        "outputId": "42ebb6e5-019e-4358-cd76-4c498d50a869"
      },
      "outputs": [
        {
          "data": {
            "text/plain": [
              "0     [Animation, Comedy, Family]\n",
              "1    [Adventure, Fantasy, Family]\n",
              "2               [Romance, Comedy]\n",
              "3        [Comedy, Drama, Romance]\n",
              "4                        [Comedy]\n",
              "Name: genres, dtype: object"
            ]
          },
          "execution_count": 22,
          "metadata": {},
          "output_type": "execute_result"
        }
      ],
      "source": [
        "movies['genres'].head()"
      ]
    },
    {
      "cell_type": "code",
      "execution_count": 23,
      "id": "ec37bebc",
      "metadata": {
        "id": "ec37bebc"
      },
      "outputs": [],
      "source": [
        "movies['keywords'] = movies['keywords'].apply(converter)"
      ]
    },
    {
      "cell_type": "code",
      "execution_count": 24,
      "id": "8208a2f0",
      "metadata": {
        "colab": {
          "base_uri": "https://localhost:8080/"
        },
        "id": "8208a2f0",
        "outputId": "f4983158-2e37-4d1f-89a8-3bb41ca23e66"
      },
      "outputs": [
        {
          "data": {
            "text/plain": [
              "0    [jealousy, toy, boy, friendship, friends, riva...\n",
              "1    [board game, disappearance, based on children'...\n",
              "2    [fishing, best friend, duringcreditsstinger, o...\n",
              "3    [based on novel, interracial relationship, sin...\n",
              "4    [baby, midlife crisis, confidence, aging, daug...\n",
              "Name: keywords, dtype: object"
            ]
          },
          "execution_count": 24,
          "metadata": {},
          "output_type": "execute_result"
        }
      ],
      "source": [
        "movies['keywords'].head()"
      ]
    },
    {
      "cell_type": "code",
      "execution_count": 25,
      "id": "f362534a",
      "metadata": {
        "id": "f362534a"
      },
      "outputs": [],
      "source": [
        "# formatting cast data column\n",
        "\n",
        "def cast_converter(obj):\n",
        "    list =[]\n",
        "    counter = 0\n",
        "    for i in ast.literal_eval(obj):\n",
        "        if counter != 3:\n",
        "            list.append(i['name'])\n",
        "            counter += 1\n",
        "        else:\n",
        "            break\n",
        "    return list"
      ]
    },
    {
      "cell_type": "code",
      "execution_count": 26,
      "id": "43ff676f",
      "metadata": {
        "id": "43ff676f"
      },
      "outputs": [],
      "source": [
        "movies['cast'] = movies['cast'].apply(cast_converter)"
      ]
    },
    {
      "cell_type": "code",
      "execution_count": 27,
      "id": "d57fea8a",
      "metadata": {
        "colab": {
          "base_uri": "https://localhost:8080/"
        },
        "id": "d57fea8a",
        "outputId": "f0becea4-9842-4354-8026-bf9f076718e6"
      },
      "outputs": [
        {
          "data": {
            "text/plain": [
              "0                  [Tom Hanks, Tim Allen, Don Rickles]\n",
              "1       [Robin Williams, Jonathan Hyde, Kirsten Dunst]\n",
              "2           [Walter Matthau, Jack Lemmon, Ann-Margret]\n",
              "3    [Whitney Houston, Angela Bassett, Loretta Devine]\n",
              "4           [Steve Martin, Diane Keaton, Martin Short]\n",
              "5              [Al Pacino, Robert De Niro, Val Kilmer]\n",
              "6          [Harrison Ford, Julia Ormond, Greg Kinnear]\n",
              "7    [Jonathan Taylor Thomas, Brad Renfro, Rachael ...\n",
              "8    [Jean-Claude Van Damme, Powers Boothe, Dorian ...\n",
              "9       [Pierce Brosnan, Sean Bean, Izabella Scorupco]\n",
              "Name: cast, dtype: object"
            ]
          },
          "execution_count": 27,
          "metadata": {},
          "output_type": "execute_result"
        }
      ],
      "source": [
        "movies['cast'].head(10)"
      ]
    },
    {
      "cell_type": "code",
      "execution_count": 28,
      "id": "82c1d954",
      "metadata": {
        "colab": {
          "base_uri": "https://localhost:8080/",
          "height": 354
        },
        "id": "82c1d954",
        "outputId": "6baa8b5c-d594-4c2d-ed4f-8dcaa7bcf009"
      },
      "outputs": [
        {
          "data": {
            "text/html": [
              "<div>\n",
              "<style scoped>\n",
              "    .dataframe tbody tr th:only-of-type {\n",
              "        vertical-align: middle;\n",
              "    }\n",
              "\n",
              "    .dataframe tbody tr th {\n",
              "        vertical-align: top;\n",
              "    }\n",
              "\n",
              "    .dataframe thead th {\n",
              "        text-align: right;\n",
              "    }\n",
              "</style>\n",
              "<table border=\"1\" class=\"dataframe\">\n",
              "  <thead>\n",
              "    <tr style=\"text-align: right;\">\n",
              "      <th></th>\n",
              "      <th>movie_id</th>\n",
              "      <th>title</th>\n",
              "      <th>overview</th>\n",
              "      <th>genres</th>\n",
              "      <th>keywords</th>\n",
              "      <th>cast</th>\n",
              "      <th>crew</th>\n",
              "    </tr>\n",
              "  </thead>\n",
              "  <tbody>\n",
              "    <tr>\n",
              "      <th>0</th>\n",
              "      <td>862</td>\n",
              "      <td>Toy Story</td>\n",
              "      <td>Led by Woody, Andy's toys live happily in his ...</td>\n",
              "      <td>[Animation, Comedy, Family]</td>\n",
              "      <td>[jealousy, toy, boy, friendship, friends, riva...</td>\n",
              "      <td>[Tom Hanks, Tim Allen, Don Rickles]</td>\n",
              "      <td>[{'credit_id': '52fe4284c3a36847f8024f49', 'de...</td>\n",
              "    </tr>\n",
              "    <tr>\n",
              "      <th>1</th>\n",
              "      <td>8844</td>\n",
              "      <td>Jumanji</td>\n",
              "      <td>When siblings Judy and Peter discover an encha...</td>\n",
              "      <td>[Adventure, Fantasy, Family]</td>\n",
              "      <td>[board game, disappearance, based on children'...</td>\n",
              "      <td>[Robin Williams, Jonathan Hyde, Kirsten Dunst]</td>\n",
              "      <td>[{'credit_id': '52fe44bfc3a36847f80a7cd1', 'de...</td>\n",
              "    </tr>\n",
              "    <tr>\n",
              "      <th>2</th>\n",
              "      <td>15602</td>\n",
              "      <td>Grumpier Old Men</td>\n",
              "      <td>A family wedding reignites the ancient feud be...</td>\n",
              "      <td>[Romance, Comedy]</td>\n",
              "      <td>[fishing, best friend, duringcreditsstinger, o...</td>\n",
              "      <td>[Walter Matthau, Jack Lemmon, Ann-Margret]</td>\n",
              "      <td>[{'credit_id': '52fe466a9251416c75077a89', 'de...</td>\n",
              "    </tr>\n",
              "    <tr>\n",
              "      <th>3</th>\n",
              "      <td>31357</td>\n",
              "      <td>Waiting to Exhale</td>\n",
              "      <td>Cheated on, mistreated and stepped on, the wom...</td>\n",
              "      <td>[Comedy, Drama, Romance]</td>\n",
              "      <td>[based on novel, interracial relationship, sin...</td>\n",
              "      <td>[Whitney Houston, Angela Bassett, Loretta Devine]</td>\n",
              "      <td>[{'credit_id': '52fe44779251416c91011acb', 'de...</td>\n",
              "    </tr>\n",
              "    <tr>\n",
              "      <th>4</th>\n",
              "      <td>11862</td>\n",
              "      <td>Father of the Bride Part II</td>\n",
              "      <td>Just when George Banks has recovered from his ...</td>\n",
              "      <td>[Comedy]</td>\n",
              "      <td>[baby, midlife crisis, confidence, aging, daug...</td>\n",
              "      <td>[Steve Martin, Diane Keaton, Martin Short]</td>\n",
              "      <td>[{'credit_id': '52fe44959251416c75039ed7', 'de...</td>\n",
              "    </tr>\n",
              "  </tbody>\n",
              "</table>\n",
              "</div>"
            ],
            "text/plain": [
              "  movie_id                        title  \\\n",
              "0      862                    Toy Story   \n",
              "1     8844                      Jumanji   \n",
              "2    15602             Grumpier Old Men   \n",
              "3    31357            Waiting to Exhale   \n",
              "4    11862  Father of the Bride Part II   \n",
              "\n",
              "                                            overview  \\\n",
              "0  Led by Woody, Andy's toys live happily in his ...   \n",
              "1  When siblings Judy and Peter discover an encha...   \n",
              "2  A family wedding reignites the ancient feud be...   \n",
              "3  Cheated on, mistreated and stepped on, the wom...   \n",
              "4  Just when George Banks has recovered from his ...   \n",
              "\n",
              "                         genres  \\\n",
              "0   [Animation, Comedy, Family]   \n",
              "1  [Adventure, Fantasy, Family]   \n",
              "2             [Romance, Comedy]   \n",
              "3      [Comedy, Drama, Romance]   \n",
              "4                      [Comedy]   \n",
              "\n",
              "                                            keywords  \\\n",
              "0  [jealousy, toy, boy, friendship, friends, riva...   \n",
              "1  [board game, disappearance, based on children'...   \n",
              "2  [fishing, best friend, duringcreditsstinger, o...   \n",
              "3  [based on novel, interracial relationship, sin...   \n",
              "4  [baby, midlife crisis, confidence, aging, daug...   \n",
              "\n",
              "                                                cast  \\\n",
              "0                [Tom Hanks, Tim Allen, Don Rickles]   \n",
              "1     [Robin Williams, Jonathan Hyde, Kirsten Dunst]   \n",
              "2         [Walter Matthau, Jack Lemmon, Ann-Margret]   \n",
              "3  [Whitney Houston, Angela Bassett, Loretta Devine]   \n",
              "4         [Steve Martin, Diane Keaton, Martin Short]   \n",
              "\n",
              "                                                crew  \n",
              "0  [{'credit_id': '52fe4284c3a36847f8024f49', 'de...  \n",
              "1  [{'credit_id': '52fe44bfc3a36847f80a7cd1', 'de...  \n",
              "2  [{'credit_id': '52fe466a9251416c75077a89', 'de...  \n",
              "3  [{'credit_id': '52fe44779251416c91011acb', 'de...  \n",
              "4  [{'credit_id': '52fe44959251416c75039ed7', 'de...  "
            ]
          },
          "execution_count": 28,
          "metadata": {},
          "output_type": "execute_result"
        }
      ],
      "source": [
        "movies.head()"
      ]
    },
    {
      "cell_type": "code",
      "execution_count": 29,
      "id": "e4a9899d",
      "metadata": {
        "id": "e4a9899d"
      },
      "outputs": [],
      "source": [
        "def fetch_director(obj):\n",
        "    list = []\n",
        "    for i in ast.literal_eval(obj):\n",
        "        if i['job'] == 'Director':\n",
        "            list.append(i['name'])\n",
        "            break\n",
        "    return list"
      ]
    },
    {
      "cell_type": "code",
      "execution_count": 30,
      "id": "b8776f9e",
      "metadata": {
        "id": "b8776f9e"
      },
      "outputs": [],
      "source": [
        "movies['crew'] = movies['crew'].apply(fetch_director)"
      ]
    },
    {
      "cell_type": "code",
      "execution_count": 31,
      "id": "f8e97a4b",
      "metadata": {
        "colab": {
          "base_uri": "https://localhost:8080/"
        },
        "id": "f8e97a4b",
        "outputId": "7e1dd84b-f4a3-4869-c4f3-2822d1667e8f"
      },
      "outputs": [
        {
          "data": {
            "text/plain": [
              "0                  [Tom Hanks, Tim Allen, Don Rickles]\n",
              "1       [Robin Williams, Jonathan Hyde, Kirsten Dunst]\n",
              "2           [Walter Matthau, Jack Lemmon, Ann-Margret]\n",
              "3    [Whitney Houston, Angela Bassett, Loretta Devine]\n",
              "4           [Steve Martin, Diane Keaton, Martin Short]\n",
              "5              [Al Pacino, Robert De Niro, Val Kilmer]\n",
              "6          [Harrison Ford, Julia Ormond, Greg Kinnear]\n",
              "7    [Jonathan Taylor Thomas, Brad Renfro, Rachael ...\n",
              "8    [Jean-Claude Van Damme, Powers Boothe, Dorian ...\n",
              "9       [Pierce Brosnan, Sean Bean, Izabella Scorupco]\n",
              "Name: cast, dtype: object"
            ]
          },
          "execution_count": 31,
          "metadata": {},
          "output_type": "execute_result"
        }
      ],
      "source": [
        "movies['cast'].head(10)"
      ]
    },
    {
      "cell_type": "code",
      "execution_count": 32,
      "id": "247fb5d1",
      "metadata": {
        "id": "247fb5d1"
      },
      "outputs": [],
      "source": [
        "# for overview\n",
        "\n",
        "movies['overview'] = movies['overview'].apply(lambda x : x.split())"
      ]
    },
    {
      "cell_type": "code",
      "execution_count": 33,
      "id": "ee9bfda8",
      "metadata": {
        "colab": {
          "base_uri": "https://localhost:8080/",
          "height": 337
        },
        "id": "ee9bfda8",
        "outputId": "13825749-f159-4a0f-e4cb-a330bac7784d"
      },
      "outputs": [
        {
          "data": {
            "text/html": [
              "<div>\n",
              "<style scoped>\n",
              "    .dataframe tbody tr th:only-of-type {\n",
              "        vertical-align: middle;\n",
              "    }\n",
              "\n",
              "    .dataframe tbody tr th {\n",
              "        vertical-align: top;\n",
              "    }\n",
              "\n",
              "    .dataframe thead th {\n",
              "        text-align: right;\n",
              "    }\n",
              "</style>\n",
              "<table border=\"1\" class=\"dataframe\">\n",
              "  <thead>\n",
              "    <tr style=\"text-align: right;\">\n",
              "      <th></th>\n",
              "      <th>movie_id</th>\n",
              "      <th>title</th>\n",
              "      <th>overview</th>\n",
              "      <th>genres</th>\n",
              "      <th>keywords</th>\n",
              "      <th>cast</th>\n",
              "      <th>crew</th>\n",
              "    </tr>\n",
              "  </thead>\n",
              "  <tbody>\n",
              "    <tr>\n",
              "      <th>0</th>\n",
              "      <td>862</td>\n",
              "      <td>Toy Story</td>\n",
              "      <td>[Led, by, Woody,, Andy's, toys, live, happily,...</td>\n",
              "      <td>[Animation, Comedy, Family]</td>\n",
              "      <td>[jealousy, toy, boy, friendship, friends, riva...</td>\n",
              "      <td>[Tom Hanks, Tim Allen, Don Rickles]</td>\n",
              "      <td>[John Lasseter]</td>\n",
              "    </tr>\n",
              "    <tr>\n",
              "      <th>1</th>\n",
              "      <td>8844</td>\n",
              "      <td>Jumanji</td>\n",
              "      <td>[When, siblings, Judy, and, Peter, discover, a...</td>\n",
              "      <td>[Adventure, Fantasy, Family]</td>\n",
              "      <td>[board game, disappearance, based on children'...</td>\n",
              "      <td>[Robin Williams, Jonathan Hyde, Kirsten Dunst]</td>\n",
              "      <td>[Joe Johnston]</td>\n",
              "    </tr>\n",
              "    <tr>\n",
              "      <th>2</th>\n",
              "      <td>15602</td>\n",
              "      <td>Grumpier Old Men</td>\n",
              "      <td>[A, family, wedding, reignites, the, ancient, ...</td>\n",
              "      <td>[Romance, Comedy]</td>\n",
              "      <td>[fishing, best friend, duringcreditsstinger, o...</td>\n",
              "      <td>[Walter Matthau, Jack Lemmon, Ann-Margret]</td>\n",
              "      <td>[Howard Deutch]</td>\n",
              "    </tr>\n",
              "    <tr>\n",
              "      <th>3</th>\n",
              "      <td>31357</td>\n",
              "      <td>Waiting to Exhale</td>\n",
              "      <td>[Cheated, on,, mistreated, and, stepped, on,, ...</td>\n",
              "      <td>[Comedy, Drama, Romance]</td>\n",
              "      <td>[based on novel, interracial relationship, sin...</td>\n",
              "      <td>[Whitney Houston, Angela Bassett, Loretta Devine]</td>\n",
              "      <td>[Forest Whitaker]</td>\n",
              "    </tr>\n",
              "    <tr>\n",
              "      <th>4</th>\n",
              "      <td>11862</td>\n",
              "      <td>Father of the Bride Part II</td>\n",
              "      <td>[Just, when, George, Banks, has, recovered, fr...</td>\n",
              "      <td>[Comedy]</td>\n",
              "      <td>[baby, midlife crisis, confidence, aging, daug...</td>\n",
              "      <td>[Steve Martin, Diane Keaton, Martin Short]</td>\n",
              "      <td>[Charles Shyer]</td>\n",
              "    </tr>\n",
              "  </tbody>\n",
              "</table>\n",
              "</div>"
            ],
            "text/plain": [
              "  movie_id                        title  \\\n",
              "0      862                    Toy Story   \n",
              "1     8844                      Jumanji   \n",
              "2    15602             Grumpier Old Men   \n",
              "3    31357            Waiting to Exhale   \n",
              "4    11862  Father of the Bride Part II   \n",
              "\n",
              "                                            overview  \\\n",
              "0  [Led, by, Woody,, Andy's, toys, live, happily,...   \n",
              "1  [When, siblings, Judy, and, Peter, discover, a...   \n",
              "2  [A, family, wedding, reignites, the, ancient, ...   \n",
              "3  [Cheated, on,, mistreated, and, stepped, on,, ...   \n",
              "4  [Just, when, George, Banks, has, recovered, fr...   \n",
              "\n",
              "                         genres  \\\n",
              "0   [Animation, Comedy, Family]   \n",
              "1  [Adventure, Fantasy, Family]   \n",
              "2             [Romance, Comedy]   \n",
              "3      [Comedy, Drama, Romance]   \n",
              "4                      [Comedy]   \n",
              "\n",
              "                                            keywords  \\\n",
              "0  [jealousy, toy, boy, friendship, friends, riva...   \n",
              "1  [board game, disappearance, based on children'...   \n",
              "2  [fishing, best friend, duringcreditsstinger, o...   \n",
              "3  [based on novel, interracial relationship, sin...   \n",
              "4  [baby, midlife crisis, confidence, aging, daug...   \n",
              "\n",
              "                                                cast               crew  \n",
              "0                [Tom Hanks, Tim Allen, Don Rickles]    [John Lasseter]  \n",
              "1     [Robin Williams, Jonathan Hyde, Kirsten Dunst]     [Joe Johnston]  \n",
              "2         [Walter Matthau, Jack Lemmon, Ann-Margret]    [Howard Deutch]  \n",
              "3  [Whitney Houston, Angela Bassett, Loretta Devine]  [Forest Whitaker]  \n",
              "4         [Steve Martin, Diane Keaton, Martin Short]    [Charles Shyer]  "
            ]
          },
          "execution_count": 33,
          "metadata": {},
          "output_type": "execute_result"
        }
      ],
      "source": [
        "movies.head()"
      ]
    },
    {
      "cell_type": "code",
      "execution_count": 34,
      "id": "e9e56e6b",
      "metadata": {
        "id": "e9e56e6b"
      },
      "outputs": [],
      "source": [
        "movies['genres'] = movies['genres'].apply(lambda x: [i.replace(' ', '') for i in x])"
      ]
    },
    {
      "cell_type": "code",
      "execution_count": 35,
      "id": "be56a67b",
      "metadata": {
        "colab": {
          "base_uri": "https://localhost:8080/"
        },
        "id": "be56a67b",
        "outputId": "f87ab0da-31bb-4bf7-fdd7-df2545a8e7ba"
      },
      "outputs": [
        {
          "data": {
            "text/plain": [
              "0         [Animation, Comedy, Family]\n",
              "1        [Adventure, Fantasy, Family]\n",
              "2                   [Romance, Comedy]\n",
              "3            [Comedy, Drama, Romance]\n",
              "4                            [Comedy]\n",
              "                     ...             \n",
              "45461                 [Drama, Family]\n",
              "45462                         [Drama]\n",
              "45463       [Action, Drama, Thriller]\n",
              "45464                              []\n",
              "45465                              []\n",
              "Name: genres, Length: 44506, dtype: object"
            ]
          },
          "execution_count": 35,
          "metadata": {},
          "output_type": "execute_result"
        }
      ],
      "source": [
        "movies['genres']"
      ]
    },
    {
      "cell_type": "code",
      "execution_count": 36,
      "id": "9c09e1b4",
      "metadata": {
        "id": "9c09e1b4"
      },
      "outputs": [],
      "source": [
        "movies['keywords'] = movies['keywords'].apply(lambda x: [i.replace(' ', '') for i in x])\n",
        "movies['cast'] = movies['cast'].apply(lambda x: [i.replace(' ', '') for i in x])\n",
        "movies['crew'] = movies['crew'].apply(lambda x: [i.replace(' ', '') for i in x])\n"
      ]
    },
    {
      "cell_type": "code",
      "execution_count": 37,
      "id": "1153750e",
      "metadata": {
        "colab": {
          "base_uri": "https://localhost:8080/",
          "height": 337
        },
        "id": "1153750e",
        "outputId": "d7c16cec-ed7e-4ff3-c817-8611d0eba9ef"
      },
      "outputs": [
        {
          "data": {
            "text/html": [
              "<div>\n",
              "<style scoped>\n",
              "    .dataframe tbody tr th:only-of-type {\n",
              "        vertical-align: middle;\n",
              "    }\n",
              "\n",
              "    .dataframe tbody tr th {\n",
              "        vertical-align: top;\n",
              "    }\n",
              "\n",
              "    .dataframe thead th {\n",
              "        text-align: right;\n",
              "    }\n",
              "</style>\n",
              "<table border=\"1\" class=\"dataframe\">\n",
              "  <thead>\n",
              "    <tr style=\"text-align: right;\">\n",
              "      <th></th>\n",
              "      <th>movie_id</th>\n",
              "      <th>title</th>\n",
              "      <th>overview</th>\n",
              "      <th>genres</th>\n",
              "      <th>keywords</th>\n",
              "      <th>cast</th>\n",
              "      <th>crew</th>\n",
              "    </tr>\n",
              "  </thead>\n",
              "  <tbody>\n",
              "    <tr>\n",
              "      <th>0</th>\n",
              "      <td>862</td>\n",
              "      <td>Toy Story</td>\n",
              "      <td>[Led, by, Woody,, Andy's, toys, live, happily,...</td>\n",
              "      <td>[Animation, Comedy, Family]</td>\n",
              "      <td>[jealousy, toy, boy, friendship, friends, riva...</td>\n",
              "      <td>[TomHanks, TimAllen, DonRickles]</td>\n",
              "      <td>[JohnLasseter]</td>\n",
              "    </tr>\n",
              "    <tr>\n",
              "      <th>1</th>\n",
              "      <td>8844</td>\n",
              "      <td>Jumanji</td>\n",
              "      <td>[When, siblings, Judy, and, Peter, discover, a...</td>\n",
              "      <td>[Adventure, Fantasy, Family]</td>\n",
              "      <td>[boardgame, disappearance, basedonchildren'sbo...</td>\n",
              "      <td>[RobinWilliams, JonathanHyde, KirstenDunst]</td>\n",
              "      <td>[JoeJohnston]</td>\n",
              "    </tr>\n",
              "    <tr>\n",
              "      <th>2</th>\n",
              "      <td>15602</td>\n",
              "      <td>Grumpier Old Men</td>\n",
              "      <td>[A, family, wedding, reignites, the, ancient, ...</td>\n",
              "      <td>[Romance, Comedy]</td>\n",
              "      <td>[fishing, bestfriend, duringcreditsstinger, ol...</td>\n",
              "      <td>[WalterMatthau, JackLemmon, Ann-Margret]</td>\n",
              "      <td>[HowardDeutch]</td>\n",
              "    </tr>\n",
              "    <tr>\n",
              "      <th>3</th>\n",
              "      <td>31357</td>\n",
              "      <td>Waiting to Exhale</td>\n",
              "      <td>[Cheated, on,, mistreated, and, stepped, on,, ...</td>\n",
              "      <td>[Comedy, Drama, Romance]</td>\n",
              "      <td>[basedonnovel, interracialrelationship, single...</td>\n",
              "      <td>[WhitneyHouston, AngelaBassett, LorettaDevine]</td>\n",
              "      <td>[ForestWhitaker]</td>\n",
              "    </tr>\n",
              "    <tr>\n",
              "      <th>4</th>\n",
              "      <td>11862</td>\n",
              "      <td>Father of the Bride Part II</td>\n",
              "      <td>[Just, when, George, Banks, has, recovered, fr...</td>\n",
              "      <td>[Comedy]</td>\n",
              "      <td>[baby, midlifecrisis, confidence, aging, daugh...</td>\n",
              "      <td>[SteveMartin, DianeKeaton, MartinShort]</td>\n",
              "      <td>[CharlesShyer]</td>\n",
              "    </tr>\n",
              "  </tbody>\n",
              "</table>\n",
              "</div>"
            ],
            "text/plain": [
              "  movie_id                        title  \\\n",
              "0      862                    Toy Story   \n",
              "1     8844                      Jumanji   \n",
              "2    15602             Grumpier Old Men   \n",
              "3    31357            Waiting to Exhale   \n",
              "4    11862  Father of the Bride Part II   \n",
              "\n",
              "                                            overview  \\\n",
              "0  [Led, by, Woody,, Andy's, toys, live, happily,...   \n",
              "1  [When, siblings, Judy, and, Peter, discover, a...   \n",
              "2  [A, family, wedding, reignites, the, ancient, ...   \n",
              "3  [Cheated, on,, mistreated, and, stepped, on,, ...   \n",
              "4  [Just, when, George, Banks, has, recovered, fr...   \n",
              "\n",
              "                         genres  \\\n",
              "0   [Animation, Comedy, Family]   \n",
              "1  [Adventure, Fantasy, Family]   \n",
              "2             [Romance, Comedy]   \n",
              "3      [Comedy, Drama, Romance]   \n",
              "4                      [Comedy]   \n",
              "\n",
              "                                            keywords  \\\n",
              "0  [jealousy, toy, boy, friendship, friends, riva...   \n",
              "1  [boardgame, disappearance, basedonchildren'sbo...   \n",
              "2  [fishing, bestfriend, duringcreditsstinger, ol...   \n",
              "3  [basedonnovel, interracialrelationship, single...   \n",
              "4  [baby, midlifecrisis, confidence, aging, daugh...   \n",
              "\n",
              "                                             cast              crew  \n",
              "0                [TomHanks, TimAllen, DonRickles]    [JohnLasseter]  \n",
              "1     [RobinWilliams, JonathanHyde, KirstenDunst]     [JoeJohnston]  \n",
              "2        [WalterMatthau, JackLemmon, Ann-Margret]    [HowardDeutch]  \n",
              "3  [WhitneyHouston, AngelaBassett, LorettaDevine]  [ForestWhitaker]  \n",
              "4         [SteveMartin, DianeKeaton, MartinShort]    [CharlesShyer]  "
            ]
          },
          "execution_count": 37,
          "metadata": {},
          "output_type": "execute_result"
        }
      ],
      "source": [
        "movies.head()"
      ]
    },
    {
      "cell_type": "code",
      "execution_count": 38,
      "id": "64b3dfbf",
      "metadata": {
        "id": "64b3dfbf"
      },
      "outputs": [],
      "source": [
        "movies['tags'] = movies['overview'] + movies['genres'] + movies['keywords'] + movies['cast'] + movies['crew']"
      ]
    },
    {
      "cell_type": "code",
      "execution_count": 39,
      "id": "b4d553d7",
      "metadata": {
        "colab": {
          "base_uri": "https://localhost:8080/",
          "height": 337
        },
        "id": "b4d553d7",
        "outputId": "23ca657a-9376-4d61-8b7f-9fb7d390c432"
      },
      "outputs": [
        {
          "data": {
            "text/html": [
              "<div>\n",
              "<style scoped>\n",
              "    .dataframe tbody tr th:only-of-type {\n",
              "        vertical-align: middle;\n",
              "    }\n",
              "\n",
              "    .dataframe tbody tr th {\n",
              "        vertical-align: top;\n",
              "    }\n",
              "\n",
              "    .dataframe thead th {\n",
              "        text-align: right;\n",
              "    }\n",
              "</style>\n",
              "<table border=\"1\" class=\"dataframe\">\n",
              "  <thead>\n",
              "    <tr style=\"text-align: right;\">\n",
              "      <th></th>\n",
              "      <th>movie_id</th>\n",
              "      <th>title</th>\n",
              "      <th>overview</th>\n",
              "      <th>genres</th>\n",
              "      <th>keywords</th>\n",
              "      <th>cast</th>\n",
              "      <th>crew</th>\n",
              "      <th>tags</th>\n",
              "    </tr>\n",
              "  </thead>\n",
              "  <tbody>\n",
              "    <tr>\n",
              "      <th>0</th>\n",
              "      <td>862</td>\n",
              "      <td>Toy Story</td>\n",
              "      <td>[Led, by, Woody,, Andy's, toys, live, happily,...</td>\n",
              "      <td>[Animation, Comedy, Family]</td>\n",
              "      <td>[jealousy, toy, boy, friendship, friends, riva...</td>\n",
              "      <td>[TomHanks, TimAllen, DonRickles]</td>\n",
              "      <td>[JohnLasseter]</td>\n",
              "      <td>[Led, by, Woody,, Andy's, toys, live, happily,...</td>\n",
              "    </tr>\n",
              "    <tr>\n",
              "      <th>1</th>\n",
              "      <td>8844</td>\n",
              "      <td>Jumanji</td>\n",
              "      <td>[When, siblings, Judy, and, Peter, discover, a...</td>\n",
              "      <td>[Adventure, Fantasy, Family]</td>\n",
              "      <td>[boardgame, disappearance, basedonchildren'sbo...</td>\n",
              "      <td>[RobinWilliams, JonathanHyde, KirstenDunst]</td>\n",
              "      <td>[JoeJohnston]</td>\n",
              "      <td>[When, siblings, Judy, and, Peter, discover, a...</td>\n",
              "    </tr>\n",
              "    <tr>\n",
              "      <th>2</th>\n",
              "      <td>15602</td>\n",
              "      <td>Grumpier Old Men</td>\n",
              "      <td>[A, family, wedding, reignites, the, ancient, ...</td>\n",
              "      <td>[Romance, Comedy]</td>\n",
              "      <td>[fishing, bestfriend, duringcreditsstinger, ol...</td>\n",
              "      <td>[WalterMatthau, JackLemmon, Ann-Margret]</td>\n",
              "      <td>[HowardDeutch]</td>\n",
              "      <td>[A, family, wedding, reignites, the, ancient, ...</td>\n",
              "    </tr>\n",
              "    <tr>\n",
              "      <th>3</th>\n",
              "      <td>31357</td>\n",
              "      <td>Waiting to Exhale</td>\n",
              "      <td>[Cheated, on,, mistreated, and, stepped, on,, ...</td>\n",
              "      <td>[Comedy, Drama, Romance]</td>\n",
              "      <td>[basedonnovel, interracialrelationship, single...</td>\n",
              "      <td>[WhitneyHouston, AngelaBassett, LorettaDevine]</td>\n",
              "      <td>[ForestWhitaker]</td>\n",
              "      <td>[Cheated, on,, mistreated, and, stepped, on,, ...</td>\n",
              "    </tr>\n",
              "    <tr>\n",
              "      <th>4</th>\n",
              "      <td>11862</td>\n",
              "      <td>Father of the Bride Part II</td>\n",
              "      <td>[Just, when, George, Banks, has, recovered, fr...</td>\n",
              "      <td>[Comedy]</td>\n",
              "      <td>[baby, midlifecrisis, confidence, aging, daugh...</td>\n",
              "      <td>[SteveMartin, DianeKeaton, MartinShort]</td>\n",
              "      <td>[CharlesShyer]</td>\n",
              "      <td>[Just, when, George, Banks, has, recovered, fr...</td>\n",
              "    </tr>\n",
              "  </tbody>\n",
              "</table>\n",
              "</div>"
            ],
            "text/plain": [
              "  movie_id                        title  \\\n",
              "0      862                    Toy Story   \n",
              "1     8844                      Jumanji   \n",
              "2    15602             Grumpier Old Men   \n",
              "3    31357            Waiting to Exhale   \n",
              "4    11862  Father of the Bride Part II   \n",
              "\n",
              "                                            overview  \\\n",
              "0  [Led, by, Woody,, Andy's, toys, live, happily,...   \n",
              "1  [When, siblings, Judy, and, Peter, discover, a...   \n",
              "2  [A, family, wedding, reignites, the, ancient, ...   \n",
              "3  [Cheated, on,, mistreated, and, stepped, on,, ...   \n",
              "4  [Just, when, George, Banks, has, recovered, fr...   \n",
              "\n",
              "                         genres  \\\n",
              "0   [Animation, Comedy, Family]   \n",
              "1  [Adventure, Fantasy, Family]   \n",
              "2             [Romance, Comedy]   \n",
              "3      [Comedy, Drama, Romance]   \n",
              "4                      [Comedy]   \n",
              "\n",
              "                                            keywords  \\\n",
              "0  [jealousy, toy, boy, friendship, friends, riva...   \n",
              "1  [boardgame, disappearance, basedonchildren'sbo...   \n",
              "2  [fishing, bestfriend, duringcreditsstinger, ol...   \n",
              "3  [basedonnovel, interracialrelationship, single...   \n",
              "4  [baby, midlifecrisis, confidence, aging, daugh...   \n",
              "\n",
              "                                             cast              crew  \\\n",
              "0                [TomHanks, TimAllen, DonRickles]    [JohnLasseter]   \n",
              "1     [RobinWilliams, JonathanHyde, KirstenDunst]     [JoeJohnston]   \n",
              "2        [WalterMatthau, JackLemmon, Ann-Margret]    [HowardDeutch]   \n",
              "3  [WhitneyHouston, AngelaBassett, LorettaDevine]  [ForestWhitaker]   \n",
              "4         [SteveMartin, DianeKeaton, MartinShort]    [CharlesShyer]   \n",
              "\n",
              "                                                tags  \n",
              "0  [Led, by, Woody,, Andy's, toys, live, happily,...  \n",
              "1  [When, siblings, Judy, and, Peter, discover, a...  \n",
              "2  [A, family, wedding, reignites, the, ancient, ...  \n",
              "3  [Cheated, on,, mistreated, and, stepped, on,, ...  \n",
              "4  [Just, when, George, Banks, has, recovered, fr...  "
            ]
          },
          "execution_count": 39,
          "metadata": {},
          "output_type": "execute_result"
        }
      ],
      "source": [
        "movies.head()"
      ]
    },
    {
      "cell_type": "code",
      "execution_count": 40,
      "id": "d433d1e9",
      "metadata": {
        "id": "d433d1e9"
      },
      "outputs": [],
      "source": [
        "new_df = movies[['movie_id', 'title', 'tags']]"
      ]
    },
    {
      "cell_type": "code",
      "execution_count": 41,
      "id": "zAAv8e0y5HzV",
      "metadata": {
        "colab": {
          "base_uri": "https://localhost:8080/",
          "height": 689
        },
        "id": "zAAv8e0y5HzV",
        "outputId": "20012e21-3d81-4b74-d1cf-8df2f1a0a541"
      },
      "outputs": [
        {
          "data": {
            "text/html": [
              "<div>\n",
              "<style scoped>\n",
              "    .dataframe tbody tr th:only-of-type {\n",
              "        vertical-align: middle;\n",
              "    }\n",
              "\n",
              "    .dataframe tbody tr th {\n",
              "        vertical-align: top;\n",
              "    }\n",
              "\n",
              "    .dataframe thead th {\n",
              "        text-align: right;\n",
              "    }\n",
              "</style>\n",
              "<table border=\"1\" class=\"dataframe\">\n",
              "  <thead>\n",
              "    <tr style=\"text-align: right;\">\n",
              "      <th></th>\n",
              "      <th>movie_id</th>\n",
              "      <th>title</th>\n",
              "      <th>tags</th>\n",
              "    </tr>\n",
              "  </thead>\n",
              "  <tbody>\n",
              "    <tr>\n",
              "      <th>0</th>\n",
              "      <td>862</td>\n",
              "      <td>Toy Story</td>\n",
              "      <td>[Led, by, Woody,, Andy's, toys, live, happily,...</td>\n",
              "    </tr>\n",
              "    <tr>\n",
              "      <th>1</th>\n",
              "      <td>8844</td>\n",
              "      <td>Jumanji</td>\n",
              "      <td>[When, siblings, Judy, and, Peter, discover, a...</td>\n",
              "    </tr>\n",
              "    <tr>\n",
              "      <th>2</th>\n",
              "      <td>15602</td>\n",
              "      <td>Grumpier Old Men</td>\n",
              "      <td>[A, family, wedding, reignites, the, ancient, ...</td>\n",
              "    </tr>\n",
              "    <tr>\n",
              "      <th>3</th>\n",
              "      <td>31357</td>\n",
              "      <td>Waiting to Exhale</td>\n",
              "      <td>[Cheated, on,, mistreated, and, stepped, on,, ...</td>\n",
              "    </tr>\n",
              "    <tr>\n",
              "      <th>4</th>\n",
              "      <td>11862</td>\n",
              "      <td>Father of the Bride Part II</td>\n",
              "      <td>[Just, when, George, Banks, has, recovered, fr...</td>\n",
              "    </tr>\n",
              "    <tr>\n",
              "      <th>...</th>\n",
              "      <td>...</td>\n",
              "      <td>...</td>\n",
              "      <td>...</td>\n",
              "    </tr>\n",
              "    <tr>\n",
              "      <th>45461</th>\n",
              "      <td>439050</td>\n",
              "      <td>Subdue</td>\n",
              "      <td>[Rising, and, falling, between, a, man, and, w...</td>\n",
              "    </tr>\n",
              "    <tr>\n",
              "      <th>45462</th>\n",
              "      <td>111109</td>\n",
              "      <td>Century of Birthing</td>\n",
              "      <td>[An, artist, struggles, to, finish, his, work,...</td>\n",
              "    </tr>\n",
              "    <tr>\n",
              "      <th>45463</th>\n",
              "      <td>67758</td>\n",
              "      <td>Betrayal</td>\n",
              "      <td>[When, one, of, her, hits, goes, wrong,, a, pr...</td>\n",
              "    </tr>\n",
              "    <tr>\n",
              "      <th>45464</th>\n",
              "      <td>227506</td>\n",
              "      <td>Satan Triumphant</td>\n",
              "      <td>[In, a, small, town, live, two, brothers,, one...</td>\n",
              "    </tr>\n",
              "    <tr>\n",
              "      <th>45465</th>\n",
              "      <td>461257</td>\n",
              "      <td>Queerama</td>\n",
              "      <td>[50, years, after, decriminalisation, of, homo...</td>\n",
              "    </tr>\n",
              "  </tbody>\n",
              "</table>\n",
              "<p>44506 rows × 3 columns</p>\n",
              "</div>"
            ],
            "text/plain": [
              "      movie_id                        title  \\\n",
              "0          862                    Toy Story   \n",
              "1         8844                      Jumanji   \n",
              "2        15602             Grumpier Old Men   \n",
              "3        31357            Waiting to Exhale   \n",
              "4        11862  Father of the Bride Part II   \n",
              "...        ...                          ...   \n",
              "45461   439050                       Subdue   \n",
              "45462   111109          Century of Birthing   \n",
              "45463    67758                     Betrayal   \n",
              "45464   227506             Satan Triumphant   \n",
              "45465   461257                     Queerama   \n",
              "\n",
              "                                                    tags  \n",
              "0      [Led, by, Woody,, Andy's, toys, live, happily,...  \n",
              "1      [When, siblings, Judy, and, Peter, discover, a...  \n",
              "2      [A, family, wedding, reignites, the, ancient, ...  \n",
              "3      [Cheated, on,, mistreated, and, stepped, on,, ...  \n",
              "4      [Just, when, George, Banks, has, recovered, fr...  \n",
              "...                                                  ...  \n",
              "45461  [Rising, and, falling, between, a, man, and, w...  \n",
              "45462  [An, artist, struggles, to, finish, his, work,...  \n",
              "45463  [When, one, of, her, hits, goes, wrong,, a, pr...  \n",
              "45464  [In, a, small, town, live, two, brothers,, one...  \n",
              "45465  [50, years, after, decriminalisation, of, homo...  \n",
              "\n",
              "[44506 rows x 3 columns]"
            ]
          },
          "execution_count": 41,
          "metadata": {},
          "output_type": "execute_result"
        }
      ],
      "source": [
        "new_df"
      ]
    },
    {
      "cell_type": "code",
      "execution_count": 42,
      "id": "8c83c7b9",
      "metadata": {
        "colab": {
          "base_uri": "https://localhost:8080/",
          "height": 206
        },
        "id": "8c83c7b9",
        "outputId": "0bf01023-6811-4d2b-e069-abbda743c18e"
      },
      "outputs": [
        {
          "data": {
            "text/html": [
              "<div>\n",
              "<style scoped>\n",
              "    .dataframe tbody tr th:only-of-type {\n",
              "        vertical-align: middle;\n",
              "    }\n",
              "\n",
              "    .dataframe tbody tr th {\n",
              "        vertical-align: top;\n",
              "    }\n",
              "\n",
              "    .dataframe thead th {\n",
              "        text-align: right;\n",
              "    }\n",
              "</style>\n",
              "<table border=\"1\" class=\"dataframe\">\n",
              "  <thead>\n",
              "    <tr style=\"text-align: right;\">\n",
              "      <th></th>\n",
              "      <th>movie_id</th>\n",
              "      <th>title</th>\n",
              "      <th>tags</th>\n",
              "    </tr>\n",
              "  </thead>\n",
              "  <tbody>\n",
              "    <tr>\n",
              "      <th>0</th>\n",
              "      <td>862</td>\n",
              "      <td>Toy Story</td>\n",
              "      <td>[Led, by, Woody,, Andy's, toys, live, happily,...</td>\n",
              "    </tr>\n",
              "    <tr>\n",
              "      <th>1</th>\n",
              "      <td>8844</td>\n",
              "      <td>Jumanji</td>\n",
              "      <td>[When, siblings, Judy, and, Peter, discover, a...</td>\n",
              "    </tr>\n",
              "    <tr>\n",
              "      <th>2</th>\n",
              "      <td>15602</td>\n",
              "      <td>Grumpier Old Men</td>\n",
              "      <td>[A, family, wedding, reignites, the, ancient, ...</td>\n",
              "    </tr>\n",
              "    <tr>\n",
              "      <th>3</th>\n",
              "      <td>31357</td>\n",
              "      <td>Waiting to Exhale</td>\n",
              "      <td>[Cheated, on,, mistreated, and, stepped, on,, ...</td>\n",
              "    </tr>\n",
              "    <tr>\n",
              "      <th>4</th>\n",
              "      <td>11862</td>\n",
              "      <td>Father of the Bride Part II</td>\n",
              "      <td>[Just, when, George, Banks, has, recovered, fr...</td>\n",
              "    </tr>\n",
              "  </tbody>\n",
              "</table>\n",
              "</div>"
            ],
            "text/plain": [
              "  movie_id                        title  \\\n",
              "0      862                    Toy Story   \n",
              "1     8844                      Jumanji   \n",
              "2    15602             Grumpier Old Men   \n",
              "3    31357            Waiting to Exhale   \n",
              "4    11862  Father of the Bride Part II   \n",
              "\n",
              "                                                tags  \n",
              "0  [Led, by, Woody,, Andy's, toys, live, happily,...  \n",
              "1  [When, siblings, Judy, and, Peter, discover, a...  \n",
              "2  [A, family, wedding, reignites, the, ancient, ...  \n",
              "3  [Cheated, on,, mistreated, and, stepped, on,, ...  \n",
              "4  [Just, when, George, Banks, has, recovered, fr...  "
            ]
          },
          "execution_count": 42,
          "metadata": {},
          "output_type": "execute_result"
        }
      ],
      "source": [
        "new_df.head()"
      ]
    },
    {
      "cell_type": "code",
      "execution_count": 43,
      "id": "30bd25f6",
      "metadata": {
        "colab": {
          "base_uri": "https://localhost:8080/"
        },
        "id": "30bd25f6",
        "outputId": "3a5babf2-e4cc-4974-9241-b89792f76844"
      },
      "outputs": [
        {
          "name": "stderr",
          "output_type": "stream",
          "text": [
            "C:\\Users\\Harsh\\AppData\\Local\\Temp\\ipykernel_4672\\3089450492.py:1: SettingWithCopyWarning: \n",
            "A value is trying to be set on a copy of a slice from a DataFrame.\n",
            "Try using .loc[row_indexer,col_indexer] = value instead\n",
            "\n",
            "See the caveats in the documentation: https://pandas.pydata.org/pandas-docs/stable/user_guide/indexing.html#returning-a-view-versus-a-copy\n",
            "  new_df['tags'] = new_df['tags'].apply(lambda x:\" \".join(x))\n"
          ]
        }
      ],
      "source": [
        "new_df['tags'] = new_df['tags'].apply(lambda x:\" \".join(x))"
      ]
    },
    {
      "cell_type": "code",
      "execution_count": 44,
      "id": "684ccec2",
      "metadata": {
        "colab": {
          "base_uri": "https://localhost:8080/",
          "height": 206
        },
        "id": "684ccec2",
        "outputId": "0c4bd1a2-6f6f-4b36-8e11-203fedd1b14f"
      },
      "outputs": [
        {
          "data": {
            "text/html": [
              "<div>\n",
              "<style scoped>\n",
              "    .dataframe tbody tr th:only-of-type {\n",
              "        vertical-align: middle;\n",
              "    }\n",
              "\n",
              "    .dataframe tbody tr th {\n",
              "        vertical-align: top;\n",
              "    }\n",
              "\n",
              "    .dataframe thead th {\n",
              "        text-align: right;\n",
              "    }\n",
              "</style>\n",
              "<table border=\"1\" class=\"dataframe\">\n",
              "  <thead>\n",
              "    <tr style=\"text-align: right;\">\n",
              "      <th></th>\n",
              "      <th>movie_id</th>\n",
              "      <th>title</th>\n",
              "      <th>tags</th>\n",
              "    </tr>\n",
              "  </thead>\n",
              "  <tbody>\n",
              "    <tr>\n",
              "      <th>0</th>\n",
              "      <td>862</td>\n",
              "      <td>Toy Story</td>\n",
              "      <td>Led by Woody, Andy's toys live happily in his ...</td>\n",
              "    </tr>\n",
              "    <tr>\n",
              "      <th>1</th>\n",
              "      <td>8844</td>\n",
              "      <td>Jumanji</td>\n",
              "      <td>When siblings Judy and Peter discover an encha...</td>\n",
              "    </tr>\n",
              "    <tr>\n",
              "      <th>2</th>\n",
              "      <td>15602</td>\n",
              "      <td>Grumpier Old Men</td>\n",
              "      <td>A family wedding reignites the ancient feud be...</td>\n",
              "    </tr>\n",
              "    <tr>\n",
              "      <th>3</th>\n",
              "      <td>31357</td>\n",
              "      <td>Waiting to Exhale</td>\n",
              "      <td>Cheated on, mistreated and stepped on, the wom...</td>\n",
              "    </tr>\n",
              "    <tr>\n",
              "      <th>4</th>\n",
              "      <td>11862</td>\n",
              "      <td>Father of the Bride Part II</td>\n",
              "      <td>Just when George Banks has recovered from his ...</td>\n",
              "    </tr>\n",
              "  </tbody>\n",
              "</table>\n",
              "</div>"
            ],
            "text/plain": [
              "  movie_id                        title  \\\n",
              "0      862                    Toy Story   \n",
              "1     8844                      Jumanji   \n",
              "2    15602             Grumpier Old Men   \n",
              "3    31357            Waiting to Exhale   \n",
              "4    11862  Father of the Bride Part II   \n",
              "\n",
              "                                                tags  \n",
              "0  Led by Woody, Andy's toys live happily in his ...  \n",
              "1  When siblings Judy and Peter discover an encha...  \n",
              "2  A family wedding reignites the ancient feud be...  \n",
              "3  Cheated on, mistreated and stepped on, the wom...  \n",
              "4  Just when George Banks has recovered from his ...  "
            ]
          },
          "execution_count": 44,
          "metadata": {},
          "output_type": "execute_result"
        }
      ],
      "source": [
        "new_df.head()"
      ]
    },
    {
      "cell_type": "code",
      "execution_count": 45,
      "id": "10236b25",
      "metadata": {
        "colab": {
          "base_uri": "https://localhost:8080/",
          "height": 105
        },
        "id": "10236b25",
        "outputId": "e36ce2c0-dfc9-467a-e64b-f365a0438517"
      },
      "outputs": [
        {
          "data": {
            "text/plain": [
              "'Cheated on, mistreated and stepped on, the women are holding their breath, waiting for the elusive \"good man\" to break a string of less-than-stellar lovers. Friends and confidants Vannah, Bernie, Glo and Robin talk it all out, determined to find a better way to breathe. Comedy Drama Romance basedonnovel interracialrelationship singlemother divorce chickflick WhitneyHouston AngelaBassett LorettaDevine ForestWhitaker'"
            ]
          },
          "execution_count": 45,
          "metadata": {},
          "output_type": "execute_result"
        }
      ],
      "source": [
        "new_df['tags'][3]"
      ]
    },
    {
      "cell_type": "code",
      "execution_count": 46,
      "id": "35777a9e",
      "metadata": {
        "colab": {
          "base_uri": "https://localhost:8080/"
        },
        "id": "35777a9e",
        "outputId": "a4776faf-25f1-4e02-8a47-18c861f9cb52"
      },
      "outputs": [
        {
          "name": "stderr",
          "output_type": "stream",
          "text": [
            "C:\\Users\\Harsh\\AppData\\Local\\Temp\\ipykernel_4672\\3214958533.py:1: SettingWithCopyWarning: \n",
            "A value is trying to be set on a copy of a slice from a DataFrame.\n",
            "Try using .loc[row_indexer,col_indexer] = value instead\n",
            "\n",
            "See the caveats in the documentation: https://pandas.pydata.org/pandas-docs/stable/user_guide/indexing.html#returning-a-view-versus-a-copy\n",
            "  new_df['tags'] = new_df['tags'].apply(lambda x:x.lower())\n"
          ]
        }
      ],
      "source": [
        "new_df['tags'] = new_df['tags'].apply(lambda x:x.lower())"
      ]
    },
    {
      "cell_type": "code",
      "execution_count": 47,
      "id": "221d3f38",
      "metadata": {
        "colab": {
          "base_uri": "https://localhost:8080/"
        },
        "id": "221d3f38",
        "outputId": "b46cdb74-9916-4c49-a4e6-4109bcb3a009",
        "scrolled": true
      },
      "outputs": [
        {
          "data": {
            "text/plain": [
              "0    led by woody, andy's toys live happily in his ...\n",
              "1    when siblings judy and peter discover an encha...\n",
              "2    a family wedding reignites the ancient feud be...\n",
              "3    cheated on, mistreated and stepped on, the wom...\n",
              "4    just when george banks has recovered from his ...\n",
              "Name: tags, dtype: object"
            ]
          },
          "execution_count": 47,
          "metadata": {},
          "output_type": "execute_result"
        }
      ],
      "source": [
        "new_df['tags'].head()"
      ]
    },
    {
      "cell_type": "markdown",
      "id": "bfa5817a",
      "metadata": {
        "id": "bfa5817a"
      },
      "source": [
        "### Stemming"
      ]
    },
    {
      "cell_type": "code",
      "execution_count": 48,
      "id": "24804493",
      "metadata": {
        "id": "24804493"
      },
      "outputs": [],
      "source": [
        "# we need stemming as there are many words which are nearly duplicate, like bear, bears or\n",
        "# 'approach', 'approaches', 'approaching'\n",
        "\n",
        "from nltk.stem.porter import PorterStemmer\n",
        "ps = PorterStemmer()"
      ]
    },
    {
      "cell_type": "code",
      "execution_count": 49,
      "id": "688906f7",
      "metadata": {
        "colab": {
          "base_uri": "https://localhost:8080/"
        },
        "id": "688906f7",
        "outputId": "828dc6d5-59a5-42c2-be92-98d07937a617"
      },
      "outputs": [
        {
          "name": "stdout",
          "output_type": "stream",
          "text": [
            "approach\n",
            "approach\n",
            "approach\n",
            "bestfriendsinlov\n",
            "blackmail\n",
            "blackpeopl\n",
            "blackmag\n",
            "blacksmith\n",
            "basedoncomicbook\n",
            "basedongraphicnovel\n",
            "basedonnovel\n",
            "basedontruestori\n",
            "basedontvseri\n",
            "basedontrueev\n",
            "basedonstagemus\n",
            "basedonvideogam\n"
          ]
        }
      ],
      "source": [
        "print(ps.stem('approaching'))\n",
        "print(ps.stem('approached'))\n",
        "print(ps.stem('approaches'))\n",
        "print(ps.stem('bestfriendsinlove'))\n",
        "\n",
        "print(ps.stem('blackmail'))\n",
        "print(ps.stem('blackpeople'))\n",
        "print(ps.stem('blackmagic'))\n",
        "print(ps.stem('blacksmith'))\n",
        "\n",
        "print(ps.stem('basedoncomicbook'))\n",
        "print(ps.stem('basedongraphicnovel'))\n",
        "print(ps.stem('basedonnovel'))\n",
        "print(ps.stem('basedontruestory'))\n",
        "print(ps.stem('basedontvseries'))\n",
        "print(ps.stem('basedontrueevents'))\n",
        "print(ps.stem('basedonstagemusical'))\n",
        "print(ps.stem('basedonvideogame'))"
      ]
    },
    {
      "cell_type": "code",
      "execution_count": 50,
      "id": "d8e86aad",
      "metadata": {
        "id": "d8e86aad"
      },
      "outputs": [],
      "source": [
        "def stem(text):\n",
        "    list = []\n",
        "    for i in text.split():\n",
        "        list.append(ps.stem(i))\n",
        "    return \" \".join(list)\n"
      ]
    },
    {
      "cell_type": "code",
      "execution_count": 51,
      "id": "782a5f68",
      "metadata": {
        "colab": {
          "base_uri": "https://localhost:8080/",
          "height": 88
        },
        "id": "782a5f68",
        "outputId": "9f251bd8-63ec-4c34-a04f-7567919e3267"
      },
      "outputs": [
        {
          "data": {
            "text/plain": [
              "\"follow the death of district attorney harvey dent, batman assum respons for dent' crime to protect the late attorney' reput and is subsequ hunt by the gotham citi polic department. eight year later, batman encount the mysteri selina kyle and the villain bane, a new terrorist leader who overwhelm gotham' finest. the dark knight resurfac to protect a citi that ha brand him an enemy. action crime drama thriller dccomic crimefight terrorist secretident burglar hostagedrama timebomb gothamc vigilant cover-up superhero villai tragichero terror destruct catwoman catburglar imax flood criminalunderworld batman christianbal michaelcain garyoldman christophernolan\""
            ]
          },
          "execution_count": 51,
          "metadata": {},
          "output_type": "execute_result"
        }
      ],
      "source": [
        "stem(\"Following the death of District Attorney Harvey Dent, Batman assumes responsibility for Dent's crimes to protect the late attorney's reputation and is subsequently hunted by the Gotham City Police Department. Eight years later, Batman encounters the mysterious Selina Kyle and the villainous Bane, a new terrorist leader who overwhelms Gotham's finest. The Dark Knight resurfaces to protect a city that has branded him an enemy. Action Crime Drama Thriller dccomics crimefighter terrorist secretidentity burglar hostagedrama timebomb gothamcity vigilante cover-up superhero villainess tragichero terrorism destruction catwoman catburglar imax flood criminalunderworld batman ChristianBale MichaelCaine GaryOldman ChristopherNolan\")"
      ]
    },
    {
      "cell_type": "code",
      "execution_count": 52,
      "id": "ce34a34d",
      "metadata": {
        "colab": {
          "base_uri": "https://localhost:8080/"
        },
        "id": "ce34a34d",
        "outputId": "7a0b59ee-92b5-4b29-c71b-ad50806cf8c1"
      },
      "outputs": [
        {
          "name": "stderr",
          "output_type": "stream",
          "text": [
            "C:\\Users\\Harsh\\AppData\\Local\\Temp\\ipykernel_4672\\3213734980.py:1: SettingWithCopyWarning: \n",
            "A value is trying to be set on a copy of a slice from a DataFrame.\n",
            "Try using .loc[row_indexer,col_indexer] = value instead\n",
            "\n",
            "See the caveats in the documentation: https://pandas.pydata.org/pandas-docs/stable/user_guide/indexing.html#returning-a-view-versus-a-copy\n",
            "  new_df['tags'] = new_df['tags'].apply(stem)\n"
          ]
        }
      ],
      "source": [
        "new_df['tags'] = new_df['tags'].apply(stem)"
      ]
    },
    {
      "cell_type": "code",
      "execution_count": 53,
      "id": "400ad518",
      "metadata": {
        "colab": {
          "base_uri": "https://localhost:8080/",
          "height": 88
        },
        "id": "400ad518",
        "outputId": "792472e5-2991-40ee-9f55-8caaefcc442d"
      },
      "outputs": [
        {
          "data": {
            "text/plain": [
              "'cheat on, mistreat and step on, the women are hold their breath, wait for the elus \"good man\" to break a string of less-than-stellar lovers. friend and confid vannah, bernie, glo and robin talk it all out, determin to find a better way to breathe. comedi drama romanc basedonnovel interracialrelationship singlemoth divorc chickflick whitneyhouston angelabassett lorettadevin forestwhitak'"
            ]
          },
          "execution_count": 53,
          "metadata": {},
          "output_type": "execute_result"
        }
      ],
      "source": [
        "new_df['tags'][3]"
      ]
    },
    {
      "cell_type": "markdown",
      "id": "b73d846d",
      "metadata": {
        "id": "b73d846d"
      },
      "source": [
        "### Text vectorization\n",
        "\n",
        "- Similarity depends on text similarity\n",
        "- Convert the text into vector\n",
        "- We can use Tfidf vectorizer, bag of words(frequency based)\n",
        "- We are going to use count vectorizer of 5000 words for every movie row\n"
      ]
    },
    {
      "cell_type": "code",
      "execution_count": 54,
      "id": "28d5eb7c",
      "metadata": {
        "id": "28d5eb7c"
      },
      "outputs": [],
      "source": [
        "from sklearn.feature_extraction.text import CountVectorizer\n",
        "cv = CountVectorizer(max_features= 5000, stop_words= 'english')"
      ]
    },
    {
      "cell_type": "code",
      "execution_count": 55,
      "id": "f9e3bbea",
      "metadata": {
        "id": "f9e3bbea"
      },
      "outputs": [],
      "source": [
        "vectors = cv.fit_transform(new_df['tags']).toarray()"
      ]
    },
    {
      "cell_type": "code",
      "execution_count": 56,
      "id": "d84805a5",
      "metadata": {
        "colab": {
          "base_uri": "https://localhost:8080/"
        },
        "id": "d84805a5",
        "outputId": "d55af53e-9040-460f-c4e8-31d0546b70e9"
      },
      "outputs": [
        {
          "data": {
            "text/plain": [
              "(44506, 5000)"
            ]
          },
          "execution_count": 56,
          "metadata": {},
          "output_type": "execute_result"
        }
      ],
      "source": [
        "vectors.shape"
      ]
    },
    {
      "cell_type": "code",
      "execution_count": 57,
      "id": "d6aa5bbc",
      "metadata": {
        "colab": {
          "base_uri": "https://localhost:8080/"
        },
        "id": "d6aa5bbc",
        "outputId": "e99967e3-d2a6-42e1-a8be-06c36e933104"
      },
      "outputs": [
        {
          "data": {
            "text/plain": [
              "array([0, 0, 0, ..., 0, 0, 0], dtype=int64)"
            ]
          },
          "execution_count": 57,
          "metadata": {},
          "output_type": "execute_result"
        }
      ],
      "source": [
        "vectors[3]"
      ]
    },
    {
      "cell_type": "code",
      "execution_count": 58,
      "id": "260d559a",
      "metadata": {
        "colab": {
          "base_uri": "https://localhost:8080/"
        },
        "id": "260d559a",
        "outputId": "62f4af1f-a835-4994-9a3c-e73763614984"
      },
      "outputs": [
        {
          "data": {
            "text/plain": [
              "array(['000', '10', '100', '11', '12', '13', '14', '15', '16', '16th',\n",
              "       '17', '17th', '18', '18th', '19', '1920', '1930', '1930s', '1939',\n",
              "       '1940', '1941', '1942', '1943', '1944', '1945', '1950', '1950s',\n",
              "       '1957', '1959', '1960', '1960s', '1964', '1967', '1968', '1969',\n",
              "       '1970', '1970s', '1971', '1972', '1973', '1974', '1975', '1976',\n",
              "       '1978', '1979', '1980', '1980s', '1981', '1983', '1984', '1986',\n",
              "       '1989', '1990', '1991', '1992', '1994', '1995', '1999', '19th',\n",
              "       '19thcenturi', '20', '200', '2000', '2001', '2002', '2003', '2004',\n",
              "       '2005', '2006', '2007', '2008', '2009', '2010', '2011', '2012',\n",
              "       '2013', '20th', '21', '21st', '22', '23', '24', '25', '27', '28',\n",
              "       '30', '300', '35', '3d', '40', '50', '500', '60', '70', '80', '90',\n",
              "       'aaron', 'abandon', 'abduct', 'abil', 'abl', 'aboard', 'abort',\n",
              "       'abov', 'abroad', 'absent', 'absolut', 'absorb', 'absurd', 'abus',\n",
              "       'abuse', 'academ', 'academi', 'academy', 'accept', 'access',\n",
              "       'accid', 'accident', 'acclaim', 'accompani', 'accomplish',\n",
              "       'accord', 'account', 'accus', 'ace', 'achiev', 'acquaint',\n",
              "       'acquir', 'act', 'action', 'activ', 'activist', 'activities',\n",
              "       'actor', 'actors', 'actress', 'actual', 'ad', 'adam', 'adapt',\n",
              "       'add', 'addict', 'addit', 'address', 'adjust', 'administr',\n",
              "       'admir', 'admit', 'adolesc', 'adopt', 'ador', 'adult', 'adultanim',\n",
              "       'adulteri', 'adulthood', 'adults', 'advanc', 'advantag',\n",
              "       'adventur', 'adventure', 'adventures', 'advertis', 'advic',\n",
              "       'advis', 'affair', 'affect', 'affection', 'afford', 'afghanistan',\n",
              "       'afraid', 'africa', 'african', 'africanamerican',\n",
              "       'aftercreditssting', 'afterlif', 'aftermath', 'afternoon', 'ag',\n",
              "       'age', 'agenc', 'agency', 'agenda', 'agent', 'agents', 'aggress',\n",
              "       'ago', 'agre', 'ah', 'ahead', 'aid', 'ail', 'aim', 'air',\n",
              "       'aircraft', 'airlin', 'airplan', 'airport', 'ajay', 'aka',\n",
              "       'akshaykumar', 'al', 'alan', 'alarm', 'alaska', 'albert', 'album',\n",
              "       'alcohol', 'alecbaldwin', 'alex', 'alexand', 'alfr',\n",
              "       'alfredhitchcock', 'ali', 'alic', 'alice', 'alien', 'alieninvas',\n",
              "       'alienlife', 'aliens', 'alik', 'aliv', 'alive', 'alleg', 'allen',\n",
              "       'alli', 'allianc', 'allow', 'allur', 'alon', 'alongsid', 'alp',\n",
              "       'alpacino', 'alreadi', 'alter', 'altern', 'alway', 'amanda',\n",
              "       'amateur', 'amaz', 'amazon', 'ambassador', 'ambit', 'ambiti',\n",
              "       'ambush', 'america', 'american', 'americanfootbal', 'ami', 'amid',\n",
              "       'amidst', 'amnesia', 'amor', 'amp', 'amsterdam', 'amus', 'ana',\n",
              "       'anarchiccomedi', 'anarchist', 'ancient', 'anderson', 'andi',\n",
              "       'andrea', 'andrew', 'android', 'angel', 'angela', 'angeles',\n",
              "       'anger', 'angri', 'ani', 'anim', 'animals', 'ann', 'anna', 'anne',\n",
              "       'anni', 'anniversari', 'announc', 'annoy', 'annual', 'anonym',\n",
              "       'anoth', 'answer', 'antholog', 'anthoni', 'anthonyhopkin',\n",
              "       'anthonyquinn', 'anti', 'antic', 'antiqu', 'antoin', 'anton',\n",
              "       'antonio', 'antoniobandera', 'anyon', 'anyth', 'apach', 'apart',\n",
              "       'apartheid', 'apartment', 'ape', 'apocalyps', 'apocalypt', 'appar',\n",
              "       'appeal', 'appear', 'appearance', 'appl', 'appli', 'appoint',\n",
              "       'apprentic', 'approach', 'approv', 'april', 'arab', 'arch',\n",
              "       'archaeologist', 'architect', 'archiv', 'arctic', 'area', 'aren',\n",
              "       'arena', 'argentina', 'argu', 'argument', 'aris', 'aristocrat',\n",
              "       'arizona', 'arm', 'armi', 'armor', 'armstrong', 'army', 'arnold',\n",
              "       'arrang', 'arrest', 'arrested', 'arriv', 'arrival', 'arrive',\n",
              "       'arrives', 'arrog', 'art', 'arthur', 'artifact', 'artifici',\n",
              "       'artificialintellig', 'artist', 'artists', 'ash', 'ashley', 'asia',\n",
              "       'asian', 'asid', 'ask', 'aspect', 'aspir', 'assassin', 'assault',\n",
              "       'assembl', 'assign', 'assignment', 'assist', 'assistant', 'associ',\n",
              "       'assum', 'asteroid', 'astonish', 'astronaut', 'asylum', 'athlet',\n",
              "       'atmospher', 'atom', 'attach', 'attack', 'attempt', 'attend',\n",
              "       'attent', 'attention', 'attic', 'attitud', 'attorney', 'attract',\n",
              "       'audienc', 'audience', 'audit', 'august', 'aunt', 'austin',\n",
              "       'australia', 'australian', 'austria', 'austrian', 'author',\n",
              "       'authorities', 'autism', 'auto', 'autobiograph', 'avail', 'avant',\n",
              "       'aveng', 'averag', 'aviat', 'avoid', 'await', 'awak', 'awaken',\n",
              "       'awar', 'award', 'away', 'awkward', 'awri', 'awry', 'babi', 'baby',\n",
              "       'babysitt', 'bachelor', 'backdrop', 'background', 'bad', 'badli',\n",
              "       'bag', 'bail', 'baker', 'balanc', 'ball', 'ballet', 'ban', 'band',\n",
              "       'bandit', 'bangkok', 'banish', 'bank', 'banker', 'bankrobb',\n",
              "       'bankrobberi', 'bankrupt', 'bar', 'barbara', 'barbarastanwyck',\n",
              "       'barber', 'barbi', 'bare', 'bargain', 'barn', 'baron', 'barren',\n",
              "       'barri', 'bars', 'bartend', 'bas', 'base', 'basebal', 'basedoncom',\n",
              "       'basedonnovel', 'basedonplayormus', 'basedontrueev',\n",
              "       'basedontruestori', 'basedontvseri', 'basedonvideogam',\n",
              "       'basedonyoungadultnovel', 'basement', 'basic', 'basketbal', 'bat',\n",
              "       'bath', 'batman', 'battl', 'battle', 'battlefield', 'bay', 'bbc',\n",
              "       'beach', 'bear', 'beast', 'beat', 'beaten', 'beauti', 'beautiful',\n",
              "       'beauty', 'becam', 'becaus', 'becom', 'bed', 'bedroom', 'bee',\n",
              "       'beer', 'befor', 'befriend', 'beg', 'began', 'begin', 'begins',\n",
              "       'begun', 'behavior', 'behaviour', 'belgium', 'belief', 'believ'],\n",
              "      dtype=object)"
            ]
          },
          "execution_count": 58,
          "metadata": {},
          "output_type": "execute_result"
        }
      ],
      "source": [
        "var = cv.get_feature_names_out()\n",
        "var[:500]"
      ]
    },
    {
      "cell_type": "code",
      "execution_count": 59,
      "id": "7e80bc86",
      "metadata": {
        "colab": {
          "base_uri": "https://localhost:8080/"
        },
        "id": "7e80bc86",
        "outputId": "9fa804ee-3749-412b-f592-878861d1893b"
      },
      "outputs": [
        {
          "data": {
            "text/plain": [
              "(44506, 5000)"
            ]
          },
          "execution_count": 59,
          "metadata": {},
          "output_type": "execute_result"
        }
      ],
      "source": [
        "vectors.shape"
      ]
    },
    {
      "cell_type": "code",
      "execution_count": 60,
      "id": "07720f6c",
      "metadata": {
        "id": "07720f6c"
      },
      "outputs": [],
      "source": [
        "# now we have to calculate cosine distance (angle between two vectors)\n",
        "# distance is inversly proportional to similarity\n",
        "\n",
        "from sklearn.metrics.pairwise import cosine_similarity\n"
      ]
    },
    {
      "cell_type": "code",
      "execution_count": 63,
      "id": "31720157",
      "metadata": {},
      "outputs": [],
      "source": [
        "vect=vectors.astype(np.float32)"
      ]
    },
    {
      "cell_type": "code",
      "execution_count": 64,
      "id": "e6c24897",
      "metadata": {
        "id": "e6c24897"
      },
      "outputs": [],
      "source": [
        "similarity = cosine_similarity(vect)"
      ]
    },
    {
      "cell_type": "code",
      "execution_count": 65,
      "id": "6d1c0b2f",
      "metadata": {
        "colab": {
          "base_uri": "https://localhost:8080/"
        },
        "id": "6d1c0b2f",
        "outputId": "5162b88d-09c8-4532-8436-106aa1c2a5a3"
      },
      "outputs": [
        {
          "data": {
            "text/plain": [
              "array([1.0000001 , 0.07216878, 0.05025189, ..., 0.        , 0.17010346,\n",
              "       0.        ], dtype=float32)"
            ]
          },
          "execution_count": 65,
          "metadata": {},
          "output_type": "execute_result"
        }
      ],
      "source": [
        "similarity[0]"
      ]
    },
    {
      "cell_type": "code",
      "execution_count": 66,
      "id": "cb19b501",
      "metadata": {
        "id": "cb19b501"
      },
      "outputs": [],
      "source": [
        "def recommend(movie):\n",
        "  movie_index = new_df[new_df['title'] == movie].index[0]\n",
        "  distances = similarity[movie_index]\n",
        "  movies_list = sorted(list(enumerate(distances)), reverse = True, key = lambda x: x[1])[1:6]\n",
        "\n",
        "  for i in movies_list:\n",
        "    print(new_df.iloc[i[0]].title)\n",
        "  return movies_list"
      ]
    },
    {
      "cell_type": "code",
      "execution_count": 67,
      "id": "1a8b8725",
      "metadata": {
        "colab": {
          "base_uri": "https://localhost:8080/"
        },
        "id": "1a8b8725",
        "outputId": "7c839409-74f7-4eb2-d16b-7a3b57c7bb07"
      },
      "outputs": [
        {
          "data": {
            "text/plain": [
              "[(14063, 0.3069703),\n",
              " (44142, 0.29649976),\n",
              " (30494, 0.2941742),\n",
              " (4227, 0.2773501),\n",
              " (13484, 0.2773501)]"
            ]
          },
          "execution_count": 67,
          "metadata": {},
          "output_type": "execute_result"
        }
      ],
      "source": [
        "sorted(list(enumerate(similarity[3])), reverse = True, key = lambda x: x[1])[1:6]\n",
        "\n",
        "# using enumerate to keep index within list"
      ]
    },
    {
      "cell_type": "markdown",
      "id": "d377c70e",
      "metadata": {},
      "source": [
        "### Using the system"
      ]
    },
    {
      "cell_type": "code",
      "execution_count": null,
      "id": "f2ea66e2",
      "metadata": {},
      "outputs": [],
      "source": [
        "recommend('movie name')"
      ]
    }
  ],
  "metadata": {
    "colab": {
      "provenance": []
    },
    "kernelspec": {
      "display_name": "Python 3 (ipykernel)",
      "language": "python",
      "name": "python3"
    },
    "language_info": {
      "codemirror_mode": {
        "name": "ipython",
        "version": 3
      },
      "file_extension": ".py",
      "mimetype": "text/x-python",
      "name": "python",
      "nbconvert_exporter": "python",
      "pygments_lexer": "ipython3",
      "version": "3.9.12"
    }
  },
  "nbformat": 4,
  "nbformat_minor": 5
}
